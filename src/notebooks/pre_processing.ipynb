{
 "cells": [
  {
   "cell_type": "markdown",
   "id": "8e281534",
   "metadata": {},
   "source": [
    "# Configurações"
   ]
  },
  {
   "cell_type": "markdown",
   "id": "b9ac744b",
   "metadata": {},
   "source": [
    "## Importações"
   ]
  },
  {
   "cell_type": "code",
   "execution_count": 133,
   "id": "99c20b65",
   "metadata": {},
   "outputs": [],
   "source": [
    "import os\n",
    "import sys\n",
    "sys.path.append('../functions')\n",
    "\n",
    "\n",
    "import pandas as pd\n",
    "import numpy as np\n",
    "\n",
    "from preprocessing import apply_boxcox_transform\n",
    "from sklearn.preprocessing import MinMaxScaler, StandardScaler, FunctionTransformer\n",
    "from scipy.stats import boxcox\n",
    "from sklearn.pipeline import Pipeline\n",
    "import joblib"
   ]
  },
  {
   "cell_type": "markdown",
   "id": "81eb4a6b",
   "metadata": {},
   "source": [
    "## Definição do Dataframe"
   ]
  },
  {
   "cell_type": "code",
   "execution_count": 134,
   "id": "3271a7fa",
   "metadata": {},
   "outputs": [],
   "source": [
    "df = pd.read_csv('../datasets/data_clean.csv')"
   ]
  },
  {
   "cell_type": "markdown",
   "id": "643bd8ab",
   "metadata": {},
   "source": [
    "# Pré-processamento"
   ]
  },
  {
   "cell_type": "markdown",
   "id": "d368ca4f",
   "metadata": {},
   "source": [
    "## Seleção de Features"
   ]
  },
  {
   "cell_type": "code",
   "execution_count": 135,
   "id": "76daa568",
   "metadata": {},
   "outputs": [],
   "source": [
    "df_selecao_6f = df.copy()\n",
    "df_selecao_4f = df.copy()"
   ]
  },
  {
   "cell_type": "code",
   "execution_count": 136,
   "id": "ea59beb7",
   "metadata": {},
   "outputs": [
    {
     "data": {
      "text/plain": [
       "Index(['id', 'name', 'artists', 'duration_ms', 'release_date', 'year',\n",
       "       'acousticness', 'danceability', 'energy', 'instrumentalness',\n",
       "       'liveness', 'loudness', 'speechiness', 'tempo', 'valence', 'mode',\n",
       "       'key', 'popularity', 'explicit'],\n",
       "      dtype='object')"
      ]
     },
     "execution_count": 136,
     "metadata": {},
     "output_type": "execute_result"
    }
   ],
   "source": [
    "df_selecao_6f.columns"
   ]
  },
  {
   "cell_type": "code",
   "execution_count": 137,
   "id": "027c9f19",
   "metadata": {},
   "outputs": [],
   "source": [
    "df_selecao_6f.drop(columns=['name', 'release_date', 'artists', 'duration_ms', 'key', 'mode', 'tempo', 'loudness', 'valence', 'liveness', 'explicit', 'year'], inplace=True)\n",
    "\n",
    "df_selecao_4f.drop(columns=['name', 'release_date', 'artists', 'duration_ms', 'key', 'mode', 'tempo', 'loudness', 'valence', 'liveness', 'explicit', 'year', 'speechiness', 'instrumentalness'], inplace=True)"
   ]
  },
  {
   "cell_type": "code",
   "execution_count": 138,
   "id": "166cf162",
   "metadata": {},
   "outputs": [
    {
     "data": {
      "text/plain": [
       "Index(['id', 'acousticness', 'danceability', 'energy', 'instrumentalness',\n",
       "       'speechiness', 'popularity'],\n",
       "      dtype='object')"
      ]
     },
     "execution_count": 138,
     "metadata": {},
     "output_type": "execute_result"
    }
   ],
   "source": [
    "df_selecao_6f.columns"
   ]
  },
  {
   "cell_type": "code",
   "execution_count": 139,
   "id": "a3073054",
   "metadata": {},
   "outputs": [
    {
     "data": {
      "text/plain": [
       "Index(['id', 'acousticness', 'danceability', 'energy', 'popularity'], dtype='object')"
      ]
     },
     "execution_count": 139,
     "metadata": {},
     "output_type": "execute_result"
    }
   ],
   "source": [
    "df_selecao_4f.columns"
   ]
  },
  {
   "cell_type": "code",
   "execution_count": 140,
   "id": "e5e86e5a",
   "metadata": {},
   "outputs": [],
   "source": [
    "df_features_6f = df_selecao_6f.copy()\n",
    "df_features_6f.drop(columns=['id'], inplace=True)\n",
    "\n",
    "df_features_4f = df_selecao_4f.copy()\n",
    "df_features_4f.drop(columns=['id'], inplace=True)"
   ]
  },
  {
   "cell_type": "markdown",
   "id": "4a594253",
   "metadata": {},
   "source": [
    "A feature \"genre\" possui os gêneros das músicas, sendo uma string, com todos os gêneros da música, separados por vírgula. \n",
    "\n",
    "O objetivo desse pré-processamento é dividir essa string e aplicar uma técnica para criar colunas binárias dos gêneros."
   ]
  },
  {
   "cell_type": "markdown",
   "id": "fe9c98c5",
   "metadata": {},
   "source": [
    "## Normalização"
   ]
  },
  {
   "cell_type": "markdown",
   "id": "e3e3a3c4",
   "metadata": {},
   "source": [
    "### Pipelines de treinamento"
   ]
  },
  {
   "cell_type": "markdown",
   "id": "34ee02d5",
   "metadata": {},
   "source": [
    "#### 6 Features"
   ]
  },
  {
   "cell_type": "code",
   "execution_count": 141,
   "id": "47f35732",
   "metadata": {},
   "outputs": [],
   "source": [
    "pipeline_6f = Pipeline([\n",
    "    ('boxcox_transform', FunctionTransformer(apply_boxcox_transform, validate=False)),\n",
    "    ('popularity_scaler', MinMaxScaler()),\n",
    "    ('standard_scaler', StandardScaler())\n",
    "])\n",
    "\n",
    "pipeline_pred_6f = Pipeline([\n",
    "    ('popularity_scaler', MinMaxScaler()),\n",
    "    ('standard_scaler', StandardScaler())\n",
    "])\n",
    "\n",
    "numeric_cols_6f = ['acousticness', 'danceability', 'energy', 'instrumentalness', 'speechiness', 'popularity']\n",
    "\n",
    "pipeline_pred_6f.fit(df_selecao_6f[numeric_cols_6f])\n",
    "\n",
    "df_selecao_6f[numeric_cols_6f] = pipeline_6f.fit_transform(df_selecao_6f[numeric_cols_6f])"
   ]
  },
  {
   "cell_type": "markdown",
   "id": "61f34668",
   "metadata": {},
   "source": [
    "#### 4 Features"
   ]
  },
  {
   "cell_type": "code",
   "execution_count": 142,
   "id": "9945d1a8",
   "metadata": {},
   "outputs": [],
   "source": [
    "pipeline_4f = Pipeline([\n",
    "    ('popularity_scaler', MinMaxScaler()),\n",
    "    ('standard_scaler', StandardScaler())\n",
    "])\n",
    "\n",
    "numeric_cols_4f = ['acousticness', 'danceability', 'energy', 'popularity']\n",
    "\n",
    "df_selecao_4f[numeric_cols_4f] = pipeline_4f.fit_transform(df_selecao_4f[numeric_cols_4f])"
   ]
  },
  {
   "cell_type": "code",
   "execution_count": 143,
   "id": "40f64535",
   "metadata": {},
   "outputs": [
    {
     "name": "stdout",
     "output_type": "stream",
     "text": [
      "✅ Pipelines de normalização aplicadas com sucesso!\n",
      "\n",
      "📊 df_selecao_6f - Primeiras linhas após normalização (COM ID):\n",
      "                       id  acousticness  danceability    energy  \\\n",
      "0  0gNNToCW3qjabgTyBSjt3H      0.084389      0.352754  0.192262   \n",
      "1  0tMgFpOrXZR6irEOLNWwJL     -0.704189     -0.970359 -0.032130   \n",
      "2  2ZywW3VyVx6rrlrX75n3JB     -1.044579     -1.517854  0.730801   \n",
      "3  6DdWA7D1o5TU2kXWyCLcch     -0.818360     -0.953250  0.210961   \n",
      "4  3vMmwsAiLDCfyc1jl76lQE     -0.818360     -0.953250  0.210961   \n",
      "\n",
      "   instrumentalness  speechiness  popularity  \n",
      "0          0.406229    -0.727591   -0.257460  \n",
      "1          1.427540    -0.823343   -0.489128  \n",
      "2          0.798087    -0.149776    0.437542  \n",
      "3          1.405054    -0.818825    0.252208  \n",
      "4          1.405054    -0.818825    0.159541  \n",
      "\n",
      "📊 df_features_6f - Primeiras linhas após normalização (SEM ID):\n",
      "   acousticness  danceability  energy  instrumentalness  speechiness  \\\n",
      "0        0.5250         0.600   0.540           0.00305       0.0328   \n",
      "1        0.2280         0.368   0.480           0.70700       0.0306   \n",
      "2        0.0998         0.272   0.684           0.01450       0.0505   \n",
      "3        0.1850         0.371   0.545           0.58200       0.0307   \n",
      "4        0.1850         0.371   0.545           0.58200       0.0307   \n",
      "\n",
      "   popularity  \n",
      "0          26  \n",
      "1          21  \n",
      "2          41  \n",
      "3          37  \n",
      "4          35  \n"
     ]
    }
   ],
   "source": [
    "print(\"✅ Pipelines de normalização aplicadas com sucesso!\")\n",
    "print(f\"\\n📊 df_selecao_6f - Primeiras linhas após normalização (COM ID):\")\n",
    "print(df_selecao_6f[['id'] + numeric_cols_6f].head())\n",
    "print(f\"\\n📊 df_features_6f - Primeiras linhas após normalização (SEM ID):\")\n",
    "print(df_features_6f[numeric_cols_6f].head())"
   ]
  },
  {
   "cell_type": "markdown",
   "id": "e30779a2",
   "metadata": {},
   "source": [
    "# Gerar o dataframe"
   ]
  },
  {
   "cell_type": "code",
   "execution_count": 144,
   "id": "e0963241",
   "metadata": {},
   "outputs": [],
   "source": [
    "df_selecao_6f.to_csv('../datasets/pre_processing_6f.csv', index=False, encoding='utf-8')\n",
    "\n",
    "df_selecao_4f.to_csv('../datasets/pre_processing_4f.csv', index=False, encoding='utf-8')"
   ]
  },
  {
   "cell_type": "code",
   "execution_count": 145,
   "id": "b0a36957",
   "metadata": {},
   "outputs": [],
   "source": [
    "df_features_6f.to_csv('../datasets/features_6f.csv', index=False, encoding='utf-8')\n",
    "\n",
    "df_features_4f.to_csv('../datasets/features_4f.csv', index=False, encoding='utf-8')"
   ]
  },
  {
   "cell_type": "markdown",
   "id": "ee52fb1f",
   "metadata": {},
   "source": [
    "# Gerar as pipelines"
   ]
  },
  {
   "cell_type": "code",
   "execution_count": 146,
   "id": "4f8dd189",
   "metadata": {},
   "outputs": [
    {
     "data": {
      "text/plain": [
       "['../models/pipeline_preprocessor_4f.joblib']"
      ]
     },
     "execution_count": 146,
     "metadata": {},
     "output_type": "execute_result"
    }
   ],
   "source": [
    "\n",
    "os.makedirs('../models', exist_ok=True)\n",
    "\n",
    "joblib.dump(pipeline_6f, '../models/pipeline_preprocessor_6f.joblib')\n",
    "joblib.dump(pipeline_pred_6f, '../models/pipeline_predictor_6f.joblib')\n",
    "joblib.dump(pipeline_4f, '../models/pipeline_preprocessor_4f.joblib')"
   ]
  },
  {
   "cell_type": "markdown",
   "id": "b1924ff8",
   "metadata": {},
   "source": [
    "# Resultados"
   ]
  },
  {
   "cell_type": "markdown",
   "id": "c56c4ea9",
   "metadata": {},
   "source": [
    "Foram removidas 12 features e mantido apenas 6."
   ]
  }
 ],
 "metadata": {
  "kernelspec": {
   "display_name": "spotify-music-recomendation-_5l54QgE",
   "language": "python",
   "name": "python3"
  },
  "language_info": {
   "codemirror_mode": {
    "name": "ipython",
    "version": 3
   },
   "file_extension": ".py",
   "mimetype": "text/x-python",
   "name": "python",
   "nbconvert_exporter": "python",
   "pygments_lexer": "ipython3",
   "version": "3.12.12"
  }
 },
 "nbformat": 4,
 "nbformat_minor": 5
}
