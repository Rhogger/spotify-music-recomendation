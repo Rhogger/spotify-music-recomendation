{
 "cells": [
  {
   "cell_type": "markdown",
   "id": "165c415b",
   "metadata": {},
   "source": [
    "# Configurações"
   ]
  },
  {
   "cell_type": "markdown",
   "id": "ed1ddf29",
   "metadata": {},
   "source": [
    "## Importações"
   ]
  },
  {
   "cell_type": "code",
   "execution_count": 1,
   "id": "87c7f2af",
   "metadata": {},
   "outputs": [],
   "source": [
    "import pandas as pd"
   ]
  },
  {
   "cell_type": "markdown",
   "id": "e7897bc0",
   "metadata": {},
   "source": [
    "## Definição do Dataframe"
   ]
  },
  {
   "cell_type": "code",
   "execution_count": 2,
   "id": "6fb27d8e",
   "metadata": {},
   "outputs": [
    {
     "name": "stderr",
     "output_type": "stream",
     "text": [
      "/home/dti-dev/.local/share/virtualenvs/spotify-music-recomendation-_5l54QgE/lib/python3.12/site-packages/tqdm/auto.py:21: TqdmWarning: IProgress not found. Please update jupyter and ipywidgets. See https://ipywidgets.readthedocs.io/en/stable/user_install.html\n",
      "  from .autonotebook import tqdm as notebook_tqdm\n"
     ]
    },
    {
     "name": "stdout",
     "output_type": "stream",
     "text": [
      "Iniciando download do dataset via Kaggle Hub...\n",
      "Downloading from https://www.kaggle.com/api/v1/datasets/download/fcpercival/160k-spotify-songs-sorted?dataset_version_number=1...\n"
     ]
    },
    {
     "name": "stderr",
     "output_type": "stream",
     "text": [
      "100%|██████████| 13.5M/13.5M [00:01<00:00, 10.3MB/s]"
     ]
    },
    {
     "name": "stdout",
     "output_type": "stream",
     "text": [
      "Extracting files...\n"
     ]
    },
    {
     "name": "stderr",
     "output_type": "stream",
     "text": [
      "\n"
     ]
    },
    {
     "name": "stdout",
     "output_type": "stream",
     "text": [
      "Dataset baixado para: /home/dti-dev/.cache/kagglehub/datasets/fcpercival/160k-spotify-songs-sorted/versions/1\n",
      "\n",
      "Arquivo encontrado: data.csv\n",
      "Arquivo copiado para: spotify_songs.csv\n"
     ]
    }
   ],
   "source": [
    "import os\n",
    "from pathlib import Path\n",
    "import shutil\n",
    "import kagglehub\n",
    "\n",
    "# Configurar o diretório de datasets\n",
    "datasets_dir = Path(\"../datasets\")\n",
    "datasets_dir.mkdir(exist_ok=True)\n",
    "\n",
    "print(\"Iniciando download do dataset via Kaggle Hub...\")\n",
    "\n",
    "try:\n",
    "    # Download usando kagglehub\n",
    "    path = kagglehub.dataset_download(\"fcpercival/160k-spotify-songs-sorted\")\n",
    "    print(f\"Dataset baixado para: {path}\")\n",
    "    \n",
    "    # Procurar APENAS pelo arquivo data.csv\n",
    "    source_file = None\n",
    "    for file in Path(path).glob(\"*.csv\"):\n",
    "        if file.name == \"data.csv\":\n",
    "            source_file = file\n",
    "            print(f\"\\nArquivo encontrado: {file.name}\")\n",
    "            break\n",
    "    \n",
    "    if source_file:\n",
    "        # Copiar para a pasta datasets como spotify_songs.csv\n",
    "        destination_csv = datasets_dir / \"spotify_songs.csv\"\n",
    "        shutil.copy(source_file, destination_csv)\n",
    "        print(f\"Arquivo copiado para: {destination_csv.name}\")\n",
    "    else:\n",
    "        print(\"❌ Arquivo data.csv não encontrado!\")\n",
    "        print(\"\\nArquivos disponíveis no download:\")\n",
    "        for file in Path(path).glob(\"*.csv\"):\n",
    "            print(f\"- {file.name}\")\n",
    "    \n",
    "except Exception as e:\n",
    "    print(f\"Erro ao fazer download: {e}\")"
   ]
  },
  {
   "cell_type": "code",
   "execution_count": 3,
   "id": "a7bb4dc1",
   "metadata": {},
   "outputs": [],
   "source": [
    "df = pd.read_csv('../datasets/spotify_songs.csv')"
   ]
  },
  {
   "cell_type": "markdown",
   "id": "9453aea1",
   "metadata": {},
   "source": [
    "# Conhecendo as Features"
   ]
  },
  {
   "cell_type": "code",
   "execution_count": 4,
   "id": "95f2bfef",
   "metadata": {},
   "outputs": [
    {
     "data": {
      "application/vnd.microsoft.datawrangler.viewer.v0+json": {
       "columns": [
        {
         "name": "index",
         "rawType": "int64",
         "type": "integer"
        },
        {
         "name": "id",
         "rawType": "object",
         "type": "string"
        },
        {
         "name": "name",
         "rawType": "object",
         "type": "string"
        },
        {
         "name": "artists",
         "rawType": "object",
         "type": "string"
        },
        {
         "name": "duration_ms",
         "rawType": "int64",
         "type": "integer"
        },
        {
         "name": "release_date",
         "rawType": "object",
         "type": "string"
        },
        {
         "name": "year",
         "rawType": "int64",
         "type": "integer"
        },
        {
         "name": "acousticness",
         "rawType": "float64",
         "type": "float"
        },
        {
         "name": "danceability",
         "rawType": "float64",
         "type": "float"
        },
        {
         "name": "energy",
         "rawType": "float64",
         "type": "float"
        },
        {
         "name": "instrumentalness",
         "rawType": "float64",
         "type": "float"
        },
        {
         "name": "liveness",
         "rawType": "float64",
         "type": "float"
        },
        {
         "name": "loudness",
         "rawType": "float64",
         "type": "float"
        },
        {
         "name": "speechiness",
         "rawType": "float64",
         "type": "float"
        },
        {
         "name": "tempo",
         "rawType": "float64",
         "type": "float"
        },
        {
         "name": "valence",
         "rawType": "float64",
         "type": "float"
        },
        {
         "name": "mode",
         "rawType": "int64",
         "type": "integer"
        },
        {
         "name": "key",
         "rawType": "int64",
         "type": "integer"
        },
        {
         "name": "popularity",
         "rawType": "int64",
         "type": "integer"
        },
        {
         "name": "explicit",
         "rawType": "int64",
         "type": "integer"
        }
       ],
       "ref": "f5e11e2e-6c17-4430-9393-f2e914c0a55a",
       "rows": [
        [
         "0",
         "0gNNToCW3qjabgTyBSjt3H",
         "!Que Vida! - Mono Version",
         "['Love']",
         "220560",
         "11/1/66",
         "1966",
         "0.525",
         "0.6",
         "0.54",
         "0.00305",
         "0.1",
         "-11.803",
         "0.0328",
         "125.898",
         "0.547",
         "1",
         "9",
         "26",
         "0"
        ],
        [
         "1",
         "0tMgFpOrXZR6irEOLNWwJL",
         "\"40\"",
         "['U2']",
         "157840",
         "2/28/83",
         "1983",
         "0.228",
         "0.368",
         "0.48",
         "0.707",
         "0.159",
         "-11.605",
         "0.0306",
         "150.166",
         "0.338",
         "1",
         "8",
         "21",
         "0"
        ],
        [
         "2",
         "2ZywW3VyVx6rrlrX75n3JB",
         "\"40\" - Live",
         "['U2']",
         "226200",
         "8/20/83",
         "1983",
         "0.0998",
         "0.272",
         "0.684",
         "0.0145",
         "0.946",
         "-9.728",
         "0.0505",
         "143.079",
         "0.279",
         "1",
         "8",
         "41",
         "0"
        ],
        [
         "3",
         "6DdWA7D1o5TU2kXWyCLcch",
         "\"40\" - Remastered 2008",
         "['U2']",
         "157667",
         "2/28/83",
         "1983",
         "0.185",
         "0.371",
         "0.545",
         "0.582",
         "0.183",
         "-9.315",
         "0.0307",
         "150.316",
         "0.31",
         "1",
         "8",
         "37",
         "0"
        ],
        [
         "4",
         "3vMmwsAiLDCfyc1jl76lQE",
         "\"40\" - Remastered 2008",
         "['U2']",
         "157667",
         "2/28/83",
         "1983",
         "0.185",
         "0.371",
         "0.545",
         "0.582",
         "0.183",
         "-9.315",
         "0.0307",
         "150.316",
         "0.31",
         "1",
         "8",
         "35",
         "0"
        ]
       ],
       "shape": {
        "columns": 19,
        "rows": 5
       }
      },
      "text/html": [
       "<div>\n",
       "<style scoped>\n",
       "    .dataframe tbody tr th:only-of-type {\n",
       "        vertical-align: middle;\n",
       "    }\n",
       "\n",
       "    .dataframe tbody tr th {\n",
       "        vertical-align: top;\n",
       "    }\n",
       "\n",
       "    .dataframe thead th {\n",
       "        text-align: right;\n",
       "    }\n",
       "</style>\n",
       "<table border=\"1\" class=\"dataframe\">\n",
       "  <thead>\n",
       "    <tr style=\"text-align: right;\">\n",
       "      <th></th>\n",
       "      <th>id</th>\n",
       "      <th>name</th>\n",
       "      <th>artists</th>\n",
       "      <th>duration_ms</th>\n",
       "      <th>release_date</th>\n",
       "      <th>year</th>\n",
       "      <th>acousticness</th>\n",
       "      <th>danceability</th>\n",
       "      <th>energy</th>\n",
       "      <th>instrumentalness</th>\n",
       "      <th>liveness</th>\n",
       "      <th>loudness</th>\n",
       "      <th>speechiness</th>\n",
       "      <th>tempo</th>\n",
       "      <th>valence</th>\n",
       "      <th>mode</th>\n",
       "      <th>key</th>\n",
       "      <th>popularity</th>\n",
       "      <th>explicit</th>\n",
       "    </tr>\n",
       "  </thead>\n",
       "  <tbody>\n",
       "    <tr>\n",
       "      <th>0</th>\n",
       "      <td>0gNNToCW3qjabgTyBSjt3H</td>\n",
       "      <td>!Que Vida! - Mono Version</td>\n",
       "      <td>['Love']</td>\n",
       "      <td>220560</td>\n",
       "      <td>11/1/66</td>\n",
       "      <td>1966</td>\n",
       "      <td>0.5250</td>\n",
       "      <td>0.600</td>\n",
       "      <td>0.540</td>\n",
       "      <td>0.00305</td>\n",
       "      <td>0.100</td>\n",
       "      <td>-11.803</td>\n",
       "      <td>0.0328</td>\n",
       "      <td>125.898</td>\n",
       "      <td>0.547</td>\n",
       "      <td>1</td>\n",
       "      <td>9</td>\n",
       "      <td>26</td>\n",
       "      <td>0</td>\n",
       "    </tr>\n",
       "    <tr>\n",
       "      <th>1</th>\n",
       "      <td>0tMgFpOrXZR6irEOLNWwJL</td>\n",
       "      <td>\"40\"</td>\n",
       "      <td>['U2']</td>\n",
       "      <td>157840</td>\n",
       "      <td>2/28/83</td>\n",
       "      <td>1983</td>\n",
       "      <td>0.2280</td>\n",
       "      <td>0.368</td>\n",
       "      <td>0.480</td>\n",
       "      <td>0.70700</td>\n",
       "      <td>0.159</td>\n",
       "      <td>-11.605</td>\n",
       "      <td>0.0306</td>\n",
       "      <td>150.166</td>\n",
       "      <td>0.338</td>\n",
       "      <td>1</td>\n",
       "      <td>8</td>\n",
       "      <td>21</td>\n",
       "      <td>0</td>\n",
       "    </tr>\n",
       "    <tr>\n",
       "      <th>2</th>\n",
       "      <td>2ZywW3VyVx6rrlrX75n3JB</td>\n",
       "      <td>\"40\" - Live</td>\n",
       "      <td>['U2']</td>\n",
       "      <td>226200</td>\n",
       "      <td>8/20/83</td>\n",
       "      <td>1983</td>\n",
       "      <td>0.0998</td>\n",
       "      <td>0.272</td>\n",
       "      <td>0.684</td>\n",
       "      <td>0.01450</td>\n",
       "      <td>0.946</td>\n",
       "      <td>-9.728</td>\n",
       "      <td>0.0505</td>\n",
       "      <td>143.079</td>\n",
       "      <td>0.279</td>\n",
       "      <td>1</td>\n",
       "      <td>8</td>\n",
       "      <td>41</td>\n",
       "      <td>0</td>\n",
       "    </tr>\n",
       "    <tr>\n",
       "      <th>3</th>\n",
       "      <td>6DdWA7D1o5TU2kXWyCLcch</td>\n",
       "      <td>\"40\" - Remastered 2008</td>\n",
       "      <td>['U2']</td>\n",
       "      <td>157667</td>\n",
       "      <td>2/28/83</td>\n",
       "      <td>1983</td>\n",
       "      <td>0.1850</td>\n",
       "      <td>0.371</td>\n",
       "      <td>0.545</td>\n",
       "      <td>0.58200</td>\n",
       "      <td>0.183</td>\n",
       "      <td>-9.315</td>\n",
       "      <td>0.0307</td>\n",
       "      <td>150.316</td>\n",
       "      <td>0.310</td>\n",
       "      <td>1</td>\n",
       "      <td>8</td>\n",
       "      <td>37</td>\n",
       "      <td>0</td>\n",
       "    </tr>\n",
       "    <tr>\n",
       "      <th>4</th>\n",
       "      <td>3vMmwsAiLDCfyc1jl76lQE</td>\n",
       "      <td>\"40\" - Remastered 2008</td>\n",
       "      <td>['U2']</td>\n",
       "      <td>157667</td>\n",
       "      <td>2/28/83</td>\n",
       "      <td>1983</td>\n",
       "      <td>0.1850</td>\n",
       "      <td>0.371</td>\n",
       "      <td>0.545</td>\n",
       "      <td>0.58200</td>\n",
       "      <td>0.183</td>\n",
       "      <td>-9.315</td>\n",
       "      <td>0.0307</td>\n",
       "      <td>150.316</td>\n",
       "      <td>0.310</td>\n",
       "      <td>1</td>\n",
       "      <td>8</td>\n",
       "      <td>35</td>\n",
       "      <td>0</td>\n",
       "    </tr>\n",
       "  </tbody>\n",
       "</table>\n",
       "</div>"
      ],
      "text/plain": [
       "                       id                       name   artists  duration_ms  \\\n",
       "0  0gNNToCW3qjabgTyBSjt3H  !Que Vida! - Mono Version  ['Love']       220560   \n",
       "1  0tMgFpOrXZR6irEOLNWwJL                       \"40\"    ['U2']       157840   \n",
       "2  2ZywW3VyVx6rrlrX75n3JB                \"40\" - Live    ['U2']       226200   \n",
       "3  6DdWA7D1o5TU2kXWyCLcch     \"40\" - Remastered 2008    ['U2']       157667   \n",
       "4  3vMmwsAiLDCfyc1jl76lQE     \"40\" - Remastered 2008    ['U2']       157667   \n",
       "\n",
       "  release_date  year  acousticness  danceability  energy  instrumentalness  \\\n",
       "0      11/1/66  1966        0.5250         0.600   0.540           0.00305   \n",
       "1      2/28/83  1983        0.2280         0.368   0.480           0.70700   \n",
       "2      8/20/83  1983        0.0998         0.272   0.684           0.01450   \n",
       "3      2/28/83  1983        0.1850         0.371   0.545           0.58200   \n",
       "4      2/28/83  1983        0.1850         0.371   0.545           0.58200   \n",
       "\n",
       "   liveness  loudness  speechiness    tempo  valence  mode  key  popularity  \\\n",
       "0     0.100   -11.803       0.0328  125.898    0.547     1    9          26   \n",
       "1     0.159   -11.605       0.0306  150.166    0.338     1    8          21   \n",
       "2     0.946    -9.728       0.0505  143.079    0.279     1    8          41   \n",
       "3     0.183    -9.315       0.0307  150.316    0.310     1    8          37   \n",
       "4     0.183    -9.315       0.0307  150.316    0.310     1    8          35   \n",
       "\n",
       "   explicit  \n",
       "0         0  \n",
       "1         0  \n",
       "2         0  \n",
       "3         0  \n",
       "4         0  "
      ]
     },
     "execution_count": 4,
     "metadata": {},
     "output_type": "execute_result"
    }
   ],
   "source": [
    "df.head()"
   ]
  },
  {
   "cell_type": "code",
   "execution_count": 5,
   "id": "1ad5b3da",
   "metadata": {},
   "outputs": [
    {
     "name": "stdout",
     "output_type": "stream",
     "text": [
      "As features do dataset são:\n",
      "1. id\n",
      "2. name\n",
      "3. artists\n",
      "4. duration_ms\n",
      "5. release_date\n",
      "6. year\n",
      "7. acousticness\n",
      "8. danceability\n",
      "9. energy\n",
      "10. instrumentalness\n",
      "11. liveness\n",
      "12. loudness\n",
      "13. speechiness\n",
      "14. tempo\n",
      "15. valence\n",
      "16. mode\n",
      "17. key\n",
      "18. popularity\n",
      "19. explicit\n"
     ]
    }
   ],
   "source": [
    "columns = df.columns\n",
    "\n",
    "print('As features do dataset são:')\n",
    "for(i, col) in enumerate(columns):\n",
    "    print(f'{i+1}. {col}')"
   ]
  },
  {
   "cell_type": "markdown",
   "id": "8ce0942c",
   "metadata": {},
   "source": [
    "# Limpeza do dados"
   ]
  },
  {
   "cell_type": "markdown",
   "id": "91cfe662",
   "metadata": {},
   "source": [
    "## Análise de nulos"
   ]
  },
  {
   "cell_type": "code",
   "execution_count": 8,
   "id": "1547d0fb",
   "metadata": {},
   "outputs": [],
   "source": [
    "def verificar_nulos(dataframe):\n",
    "    nulos = dataframe.isnull().sum()\n",
    "    total = dataframe.shape[0]\n",
    "    porcentagem = (nulos / total) * 100\n",
    "    resultado = pd.DataFrame({'Nulos': nulos, 'Porcentagem (%)': porcentagem})\n",
    "    return resultado"
   ]
  },
  {
   "cell_type": "code",
   "execution_count": 7,
   "id": "19ce0900",
   "metadata": {},
   "outputs": [
    {
     "data": {
      "application/vnd.microsoft.datawrangler.viewer.v0+json": {
       "columns": [
        {
         "name": "index",
         "rawType": "object",
         "type": "string"
        },
        {
         "name": "Nulos",
         "rawType": "int64",
         "type": "integer"
        },
        {
         "name": "Porcentagem (%)",
         "rawType": "float64",
         "type": "float"
        }
       ],
       "ref": "3d4a7e1d-0830-441b-af8a-ae6cd11b0fdd",
       "rows": [
        [
         "id",
         "0",
         "0.0"
        ],
        [
         "name",
         "0",
         "0.0"
        ],
        [
         "artists",
         "0",
         "0.0"
        ],
        [
         "duration_ms",
         "0",
         "0.0"
        ],
        [
         "release_date",
         "0",
         "0.0"
        ],
        [
         "year",
         "0",
         "0.0"
        ],
        [
         "acousticness",
         "0",
         "0.0"
        ],
        [
         "danceability",
         "0",
         "0.0"
        ],
        [
         "energy",
         "0",
         "0.0"
        ],
        [
         "instrumentalness",
         "0",
         "0.0"
        ],
        [
         "liveness",
         "0",
         "0.0"
        ],
        [
         "loudness",
         "0",
         "0.0"
        ],
        [
         "speechiness",
         "0",
         "0.0"
        ],
        [
         "tempo",
         "0",
         "0.0"
        ],
        [
         "valence",
         "0",
         "0.0"
        ],
        [
         "mode",
         "0",
         "0.0"
        ],
        [
         "key",
         "0",
         "0.0"
        ],
        [
         "popularity",
         "0",
         "0.0"
        ],
        [
         "explicit",
         "0",
         "0.0"
        ]
       ],
       "shape": {
        "columns": 2,
        "rows": 19
       }
      },
      "text/html": [
       "<div>\n",
       "<style scoped>\n",
       "    .dataframe tbody tr th:only-of-type {\n",
       "        vertical-align: middle;\n",
       "    }\n",
       "\n",
       "    .dataframe tbody tr th {\n",
       "        vertical-align: top;\n",
       "    }\n",
       "\n",
       "    .dataframe thead th {\n",
       "        text-align: right;\n",
       "    }\n",
       "</style>\n",
       "<table border=\"1\" class=\"dataframe\">\n",
       "  <thead>\n",
       "    <tr style=\"text-align: right;\">\n",
       "      <th></th>\n",
       "      <th>Nulos</th>\n",
       "      <th>Porcentagem (%)</th>\n",
       "    </tr>\n",
       "  </thead>\n",
       "  <tbody>\n",
       "    <tr>\n",
       "      <th>id</th>\n",
       "      <td>0</td>\n",
       "      <td>0.0</td>\n",
       "    </tr>\n",
       "    <tr>\n",
       "      <th>name</th>\n",
       "      <td>0</td>\n",
       "      <td>0.0</td>\n",
       "    </tr>\n",
       "    <tr>\n",
       "      <th>artists</th>\n",
       "      <td>0</td>\n",
       "      <td>0.0</td>\n",
       "    </tr>\n",
       "    <tr>\n",
       "      <th>duration_ms</th>\n",
       "      <td>0</td>\n",
       "      <td>0.0</td>\n",
       "    </tr>\n",
       "    <tr>\n",
       "      <th>release_date</th>\n",
       "      <td>0</td>\n",
       "      <td>0.0</td>\n",
       "    </tr>\n",
       "    <tr>\n",
       "      <th>year</th>\n",
       "      <td>0</td>\n",
       "      <td>0.0</td>\n",
       "    </tr>\n",
       "    <tr>\n",
       "      <th>acousticness</th>\n",
       "      <td>0</td>\n",
       "      <td>0.0</td>\n",
       "    </tr>\n",
       "    <tr>\n",
       "      <th>danceability</th>\n",
       "      <td>0</td>\n",
       "      <td>0.0</td>\n",
       "    </tr>\n",
       "    <tr>\n",
       "      <th>energy</th>\n",
       "      <td>0</td>\n",
       "      <td>0.0</td>\n",
       "    </tr>\n",
       "    <tr>\n",
       "      <th>instrumentalness</th>\n",
       "      <td>0</td>\n",
       "      <td>0.0</td>\n",
       "    </tr>\n",
       "    <tr>\n",
       "      <th>liveness</th>\n",
       "      <td>0</td>\n",
       "      <td>0.0</td>\n",
       "    </tr>\n",
       "    <tr>\n",
       "      <th>loudness</th>\n",
       "      <td>0</td>\n",
       "      <td>0.0</td>\n",
       "    </tr>\n",
       "    <tr>\n",
       "      <th>speechiness</th>\n",
       "      <td>0</td>\n",
       "      <td>0.0</td>\n",
       "    </tr>\n",
       "    <tr>\n",
       "      <th>tempo</th>\n",
       "      <td>0</td>\n",
       "      <td>0.0</td>\n",
       "    </tr>\n",
       "    <tr>\n",
       "      <th>valence</th>\n",
       "      <td>0</td>\n",
       "      <td>0.0</td>\n",
       "    </tr>\n",
       "    <tr>\n",
       "      <th>mode</th>\n",
       "      <td>0</td>\n",
       "      <td>0.0</td>\n",
       "    </tr>\n",
       "    <tr>\n",
       "      <th>key</th>\n",
       "      <td>0</td>\n",
       "      <td>0.0</td>\n",
       "    </tr>\n",
       "    <tr>\n",
       "      <th>popularity</th>\n",
       "      <td>0</td>\n",
       "      <td>0.0</td>\n",
       "    </tr>\n",
       "    <tr>\n",
       "      <th>explicit</th>\n",
       "      <td>0</td>\n",
       "      <td>0.0</td>\n",
       "    </tr>\n",
       "  </tbody>\n",
       "</table>\n",
       "</div>"
      ],
      "text/plain": [
       "                  Nulos  Porcentagem (%)\n",
       "id                    0              0.0\n",
       "name                  0              0.0\n",
       "artists               0              0.0\n",
       "duration_ms           0              0.0\n",
       "release_date          0              0.0\n",
       "year                  0              0.0\n",
       "acousticness          0              0.0\n",
       "danceability          0              0.0\n",
       "energy                0              0.0\n",
       "instrumentalness      0              0.0\n",
       "liveness              0              0.0\n",
       "loudness              0              0.0\n",
       "speechiness           0              0.0\n",
       "tempo                 0              0.0\n",
       "valence               0              0.0\n",
       "mode                  0              0.0\n",
       "key                   0              0.0\n",
       "popularity            0              0.0\n",
       "explicit              0              0.0"
      ]
     },
     "execution_count": 7,
     "metadata": {},
     "output_type": "execute_result"
    }
   ],
   "source": [
    "verificar_nulos(df)"
   ]
  },
  {
   "cell_type": "markdown",
   "id": "78ae7b1e",
   "metadata": {},
   "source": [
    "## Análise descritiva"
   ]
  },
  {
   "cell_type": "code",
   "execution_count": 9,
   "id": "ce4f84fa",
   "metadata": {},
   "outputs": [
    {
     "data": {
      "application/vnd.microsoft.datawrangler.viewer.v0+json": {
       "columns": [
        {
         "name": "index",
         "rawType": "object",
         "type": "string"
        },
        {
         "name": "duration_ms",
         "rawType": "float64",
         "type": "float"
        },
        {
         "name": "year",
         "rawType": "float64",
         "type": "float"
        },
        {
         "name": "acousticness",
         "rawType": "float64",
         "type": "float"
        },
        {
         "name": "danceability",
         "rawType": "float64",
         "type": "float"
        },
        {
         "name": "energy",
         "rawType": "float64",
         "type": "float"
        },
        {
         "name": "instrumentalness",
         "rawType": "float64",
         "type": "float"
        },
        {
         "name": "liveness",
         "rawType": "float64",
         "type": "float"
        },
        {
         "name": "loudness",
         "rawType": "float64",
         "type": "float"
        },
        {
         "name": "speechiness",
         "rawType": "float64",
         "type": "float"
        },
        {
         "name": "tempo",
         "rawType": "float64",
         "type": "float"
        },
        {
         "name": "valence",
         "rawType": "float64",
         "type": "float"
        },
        {
         "name": "mode",
         "rawType": "float64",
         "type": "float"
        },
        {
         "name": "key",
         "rawType": "float64",
         "type": "float"
        },
        {
         "name": "popularity",
         "rawType": "float64",
         "type": "float"
        },
        {
         "name": "explicit",
         "rawType": "float64",
         "type": "float"
        }
       ],
       "ref": "7dc9a619-6be4-4b35-be56-2d99da2b987f",
       "rows": [
        [
         "count",
         "169907.0",
         "169907.0",
         "169907.0",
         "169907.0",
         "169907.0",
         "169907.0",
         "169907.0",
         "169907.0",
         "169907.0",
         "169907.0",
         "169907.0",
         "169907.0",
         "169907.0",
         "169907.0",
         "169907.0"
        ],
        [
         "mean",
         "231407.0859882171",
         "1977.2232338867734",
         "0.49321685082810013",
         "0.5381466820083928",
         "0.4885911539041946",
         "0.16193904926047778",
         "0.20669177473559067",
         "-11.37031071703932",
         "0.09405834839059014",
         "116.94784985904052",
         "0.5320911824768844",
         "0.7085523256840507",
         "5.2004979194500525",
         "31.55668100784547",
         "0.08486407269859393"
        ],
        [
         "std",
         "121322.33639206865",
         "25.59331825119534",
         "0.376628345102325",
         "0.17534458182038415",
         "0.26739088455084953",
         "0.3093302036938319",
         "0.17679704280272673",
         "5.666794544153141",
         "0.149938063885763",
         "30.727078707798544",
         "0.2624066368977857",
         "0.45443056990543135",
         "3.515272066133644",
         "21.58273021796636",
         "0.2786801373485223"
        ],
        [
         "min",
         "5108.0",
         "1921.0",
         "0.0",
         "0.0",
         "0.0",
         "0.0",
         "0.0",
         "-60.0",
         "0.0",
         "0.0",
         "0.0",
         "0.0",
         "0.0",
         "0.0",
         "0.0"
        ],
        [
         "25%",
         "171040.0",
         "1957.0",
         "0.0945",
         "0.417",
         "0.263",
         "0.0",
         "0.0984",
         "-14.47",
         "0.0349",
         "93.516",
         "0.322",
         "0.0",
         "2.0",
         "12.0",
         "0.0"
        ],
        [
         "50%",
         "208600.0",
         "1978.0",
         "0.492",
         "0.548",
         "0.481",
         "0.000204",
         "0.135",
         "-10.474",
         "0.045",
         "114.777",
         "0.544",
         "1.0",
         "5.0",
         "33.0",
         "0.0"
        ],
        [
         "75%",
         "262966.5",
         "1999.0",
         "0.888",
         "0.667",
         "0.71",
         "0.0868",
         "0.263",
         "-7.118",
         "0.0754",
         "135.712",
         "0.749",
         "1.0",
         "8.0",
         "48.0",
         "0.0"
        ],
        [
         "max",
         "5403500.0",
         "2020.0",
         "0.996",
         "0.988",
         "1.0",
         "1.0",
         "1.0",
         "3.855",
         "0.969",
         "244.091",
         "1.0",
         "1.0",
         "11.0",
         "100.0",
         "1.0"
        ]
       ],
       "shape": {
        "columns": 15,
        "rows": 8
       }
      },
      "text/html": [
       "<div>\n",
       "<style scoped>\n",
       "    .dataframe tbody tr th:only-of-type {\n",
       "        vertical-align: middle;\n",
       "    }\n",
       "\n",
       "    .dataframe tbody tr th {\n",
       "        vertical-align: top;\n",
       "    }\n",
       "\n",
       "    .dataframe thead th {\n",
       "        text-align: right;\n",
       "    }\n",
       "</style>\n",
       "<table border=\"1\" class=\"dataframe\">\n",
       "  <thead>\n",
       "    <tr style=\"text-align: right;\">\n",
       "      <th></th>\n",
       "      <th>duration_ms</th>\n",
       "      <th>year</th>\n",
       "      <th>acousticness</th>\n",
       "      <th>danceability</th>\n",
       "      <th>energy</th>\n",
       "      <th>instrumentalness</th>\n",
       "      <th>liveness</th>\n",
       "      <th>loudness</th>\n",
       "      <th>speechiness</th>\n",
       "      <th>tempo</th>\n",
       "      <th>valence</th>\n",
       "      <th>mode</th>\n",
       "      <th>key</th>\n",
       "      <th>popularity</th>\n",
       "      <th>explicit</th>\n",
       "    </tr>\n",
       "  </thead>\n",
       "  <tbody>\n",
       "    <tr>\n",
       "      <th>count</th>\n",
       "      <td>1.699070e+05</td>\n",
       "      <td>169907.000000</td>\n",
       "      <td>169907.000000</td>\n",
       "      <td>169907.000000</td>\n",
       "      <td>169907.000000</td>\n",
       "      <td>169907.000000</td>\n",
       "      <td>169907.000000</td>\n",
       "      <td>169907.000000</td>\n",
       "      <td>169907.000000</td>\n",
       "      <td>169907.000000</td>\n",
       "      <td>169907.000000</td>\n",
       "      <td>169907.000000</td>\n",
       "      <td>169907.000000</td>\n",
       "      <td>169907.000000</td>\n",
       "      <td>169907.000000</td>\n",
       "    </tr>\n",
       "    <tr>\n",
       "      <th>mean</th>\n",
       "      <td>2.314071e+05</td>\n",
       "      <td>1977.223234</td>\n",
       "      <td>0.493217</td>\n",
       "      <td>0.538147</td>\n",
       "      <td>0.488591</td>\n",
       "      <td>0.161939</td>\n",
       "      <td>0.206692</td>\n",
       "      <td>-11.370311</td>\n",
       "      <td>0.094058</td>\n",
       "      <td>116.947850</td>\n",
       "      <td>0.532091</td>\n",
       "      <td>0.708552</td>\n",
       "      <td>5.200498</td>\n",
       "      <td>31.556681</td>\n",
       "      <td>0.084864</td>\n",
       "    </tr>\n",
       "    <tr>\n",
       "      <th>std</th>\n",
       "      <td>1.213223e+05</td>\n",
       "      <td>25.593318</td>\n",
       "      <td>0.376628</td>\n",
       "      <td>0.175345</td>\n",
       "      <td>0.267391</td>\n",
       "      <td>0.309330</td>\n",
       "      <td>0.176797</td>\n",
       "      <td>5.666795</td>\n",
       "      <td>0.149938</td>\n",
       "      <td>30.727079</td>\n",
       "      <td>0.262407</td>\n",
       "      <td>0.454431</td>\n",
       "      <td>3.515272</td>\n",
       "      <td>21.582730</td>\n",
       "      <td>0.278680</td>\n",
       "    </tr>\n",
       "    <tr>\n",
       "      <th>min</th>\n",
       "      <td>5.108000e+03</td>\n",
       "      <td>1921.000000</td>\n",
       "      <td>0.000000</td>\n",
       "      <td>0.000000</td>\n",
       "      <td>0.000000</td>\n",
       "      <td>0.000000</td>\n",
       "      <td>0.000000</td>\n",
       "      <td>-60.000000</td>\n",
       "      <td>0.000000</td>\n",
       "      <td>0.000000</td>\n",
       "      <td>0.000000</td>\n",
       "      <td>0.000000</td>\n",
       "      <td>0.000000</td>\n",
       "      <td>0.000000</td>\n",
       "      <td>0.000000</td>\n",
       "    </tr>\n",
       "    <tr>\n",
       "      <th>25%</th>\n",
       "      <td>1.710400e+05</td>\n",
       "      <td>1957.000000</td>\n",
       "      <td>0.094500</td>\n",
       "      <td>0.417000</td>\n",
       "      <td>0.263000</td>\n",
       "      <td>0.000000</td>\n",
       "      <td>0.098400</td>\n",
       "      <td>-14.470000</td>\n",
       "      <td>0.034900</td>\n",
       "      <td>93.516000</td>\n",
       "      <td>0.322000</td>\n",
       "      <td>0.000000</td>\n",
       "      <td>2.000000</td>\n",
       "      <td>12.000000</td>\n",
       "      <td>0.000000</td>\n",
       "    </tr>\n",
       "    <tr>\n",
       "      <th>50%</th>\n",
       "      <td>2.086000e+05</td>\n",
       "      <td>1978.000000</td>\n",
       "      <td>0.492000</td>\n",
       "      <td>0.548000</td>\n",
       "      <td>0.481000</td>\n",
       "      <td>0.000204</td>\n",
       "      <td>0.135000</td>\n",
       "      <td>-10.474000</td>\n",
       "      <td>0.045000</td>\n",
       "      <td>114.777000</td>\n",
       "      <td>0.544000</td>\n",
       "      <td>1.000000</td>\n",
       "      <td>5.000000</td>\n",
       "      <td>33.000000</td>\n",
       "      <td>0.000000</td>\n",
       "    </tr>\n",
       "    <tr>\n",
       "      <th>75%</th>\n",
       "      <td>2.629665e+05</td>\n",
       "      <td>1999.000000</td>\n",
       "      <td>0.888000</td>\n",
       "      <td>0.667000</td>\n",
       "      <td>0.710000</td>\n",
       "      <td>0.086800</td>\n",
       "      <td>0.263000</td>\n",
       "      <td>-7.118000</td>\n",
       "      <td>0.075400</td>\n",
       "      <td>135.712000</td>\n",
       "      <td>0.749000</td>\n",
       "      <td>1.000000</td>\n",
       "      <td>8.000000</td>\n",
       "      <td>48.000000</td>\n",
       "      <td>0.000000</td>\n",
       "    </tr>\n",
       "    <tr>\n",
       "      <th>max</th>\n",
       "      <td>5.403500e+06</td>\n",
       "      <td>2020.000000</td>\n",
       "      <td>0.996000</td>\n",
       "      <td>0.988000</td>\n",
       "      <td>1.000000</td>\n",
       "      <td>1.000000</td>\n",
       "      <td>1.000000</td>\n",
       "      <td>3.855000</td>\n",
       "      <td>0.969000</td>\n",
       "      <td>244.091000</td>\n",
       "      <td>1.000000</td>\n",
       "      <td>1.000000</td>\n",
       "      <td>11.000000</td>\n",
       "      <td>100.000000</td>\n",
       "      <td>1.000000</td>\n",
       "    </tr>\n",
       "  </tbody>\n",
       "</table>\n",
       "</div>"
      ],
      "text/plain": [
       "        duration_ms           year   acousticness   danceability  \\\n",
       "count  1.699070e+05  169907.000000  169907.000000  169907.000000   \n",
       "mean   2.314071e+05    1977.223234       0.493217       0.538147   \n",
       "std    1.213223e+05      25.593318       0.376628       0.175345   \n",
       "min    5.108000e+03    1921.000000       0.000000       0.000000   \n",
       "25%    1.710400e+05    1957.000000       0.094500       0.417000   \n",
       "50%    2.086000e+05    1978.000000       0.492000       0.548000   \n",
       "75%    2.629665e+05    1999.000000       0.888000       0.667000   \n",
       "max    5.403500e+06    2020.000000       0.996000       0.988000   \n",
       "\n",
       "              energy  instrumentalness       liveness       loudness  \\\n",
       "count  169907.000000     169907.000000  169907.000000  169907.000000   \n",
       "mean        0.488591          0.161939       0.206692     -11.370311   \n",
       "std         0.267391          0.309330       0.176797       5.666795   \n",
       "min         0.000000          0.000000       0.000000     -60.000000   \n",
       "25%         0.263000          0.000000       0.098400     -14.470000   \n",
       "50%         0.481000          0.000204       0.135000     -10.474000   \n",
       "75%         0.710000          0.086800       0.263000      -7.118000   \n",
       "max         1.000000          1.000000       1.000000       3.855000   \n",
       "\n",
       "         speechiness          tempo        valence           mode  \\\n",
       "count  169907.000000  169907.000000  169907.000000  169907.000000   \n",
       "mean        0.094058     116.947850       0.532091       0.708552   \n",
       "std         0.149938      30.727079       0.262407       0.454431   \n",
       "min         0.000000       0.000000       0.000000       0.000000   \n",
       "25%         0.034900      93.516000       0.322000       0.000000   \n",
       "50%         0.045000     114.777000       0.544000       1.000000   \n",
       "75%         0.075400     135.712000       0.749000       1.000000   \n",
       "max         0.969000     244.091000       1.000000       1.000000   \n",
       "\n",
       "                 key     popularity       explicit  \n",
       "count  169907.000000  169907.000000  169907.000000  \n",
       "mean        5.200498      31.556681       0.084864  \n",
       "std         3.515272      21.582730       0.278680  \n",
       "min         0.000000       0.000000       0.000000  \n",
       "25%         2.000000      12.000000       0.000000  \n",
       "50%         5.000000      33.000000       0.000000  \n",
       "75%         8.000000      48.000000       0.000000  \n",
       "max        11.000000     100.000000       1.000000  "
      ]
     },
     "execution_count": 9,
     "metadata": {},
     "output_type": "execute_result"
    }
   ],
   "source": [
    "df.describe()"
   ]
  },
  {
   "cell_type": "markdown",
   "id": "ffb877e7",
   "metadata": {},
   "source": [
    "# Gerar o dataframe"
   ]
  },
  {
   "cell_type": "code",
   "execution_count": 10,
   "id": "e12bde60",
   "metadata": {},
   "outputs": [],
   "source": [
    "df.to_csv('../datasets/data_clean.csv', index=False, encoding='utf-8')"
   ]
  },
  {
   "cell_type": "markdown",
   "id": "b2a7e50b",
   "metadata": {},
   "source": [
    "# Resultados"
   ]
  },
  {
   "cell_type": "markdown",
   "id": "cc0ce10c",
   "metadata": {},
   "source": [
    "Aparentemente os dados desse dataset de 2000 músicas está tratado. Foi encontrado apenas uma inconsistência de algumas musicas possirem o gênero \"set()\", que muito provavelmente foi erro de input."
   ]
  }
 ],
 "metadata": {
  "kernelspec": {
   "display_name": "spotify-music-recomendation-_5l54QgE",
   "language": "python",
   "name": "python3"
  },
  "language_info": {
   "codemirror_mode": {
    "name": "ipython",
    "version": 3
   },
   "file_extension": ".py",
   "mimetype": "text/x-python",
   "name": "python",
   "nbconvert_exporter": "python",
   "pygments_lexer": "ipython3",
   "version": "3.12.12"
  }
 },
 "nbformat": 4,
 "nbformat_minor": 5
}
