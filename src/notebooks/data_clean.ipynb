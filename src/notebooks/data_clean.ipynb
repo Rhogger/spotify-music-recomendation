{
 "cells": [
  {
   "cell_type": "markdown",
   "id": "165c415b",
   "metadata": {},
   "source": [
    "# Configurações"
   ]
  },
  {
   "cell_type": "markdown",
   "id": "ed1ddf29",
   "metadata": {},
   "source": [
    "## Importações"
   ]
  },
  {
   "cell_type": "code",
   "execution_count": 2,
   "id": "87c7f2af",
   "metadata": {},
   "outputs": [],
   "source": [
    "import pandas as pd"
   ]
  },
  {
   "cell_type": "markdown",
   "id": "e7897bc0",
   "metadata": {},
   "source": [
    "## Definição do Dataframe"
   ]
  },
  {
   "cell_type": "code",
   "execution_count": 3,
   "id": "6fb27d8e",
   "metadata": {},
   "outputs": [
    {
     "name": "stderr",
     "output_type": "stream",
     "text": [
      "/home/dti-dev/.local/share/virtualenvs/spotify-music-recomendation-_5l54QgE/lib/python3.12/site-packages/tqdm/auto.py:21: TqdmWarning: IProgress not found. Please update jupyter and ipywidgets. See https://ipywidgets.readthedocs.io/en/stable/user_install.html\n",
      "  from .autonotebook import tqdm as notebook_tqdm\n"
     ]
    },
    {
     "name": "stdout",
     "output_type": "stream",
     "text": [
      "Iniciando download do dataset via Kaggle Hub...\n",
      "Dataset baixado para: /home/dti-dev/.cache/kagglehub/datasets/bwandowando/spotify-songs-with-attributes-and-lyrics/versions/19\n",
      "\n",
      "Arquivo encontrado: songs_with_attributes_and_lyrics.csv\n",
      "Dataset baixado para: /home/dti-dev/.cache/kagglehub/datasets/bwandowando/spotify-songs-with-attributes-and-lyrics/versions/19\n",
      "\n",
      "Arquivo encontrado: songs_with_attributes_and_lyrics.csv\n",
      "Arquivo copiado para: spotify_songs.csv\n",
      "Arquivo copiado para: spotify_songs.csv\n"
     ]
    }
   ],
   "source": [
    "import os\n",
    "from pathlib import Path\n",
    "import shutil\n",
    "import kagglehub\n",
    "\n",
    "# Configurar o diretório de datasets\n",
    "datasets_dir = Path(\"../datasets\")\n",
    "datasets_dir.mkdir(exist_ok=True)\n",
    "\n",
    "print(\"Iniciando download do dataset via Kaggle Hub...\")\n",
    "\n",
    "try:\n",
    "    # Download usando kagglehub\n",
    "    path = kagglehub.dataset_download(\"bwandowando/spotify-songs-with-attributes-and-lyrics\")\n",
    "    print(f\"Dataset baixado para: {path}\")\n",
    "    \n",
    "    # Procurar APENAS pelo arquivo songs_with_attributes_and_lyrics.csv\n",
    "    source_file = None\n",
    "    for file in Path(path).glob(\"*.csv\"):\n",
    "        if file.name == \"songs_with_attributes_and_lyrics.csv\":\n",
    "            source_file = file\n",
    "            print(f\"\\nArquivo encontrado: {file.name}\")\n",
    "            break\n",
    "    \n",
    "    if source_file:\n",
    "        # Copiar para a pasta datasets como spotify_songs.csv\n",
    "        destination_csv = datasets_dir / \"spotify_songs.csv\"\n",
    "        shutil.copy(source_file, destination_csv)\n",
    "        print(f\"Arquivo copiado para: {destination_csv.name}\")\n",
    "    else:\n",
    "        print(\"❌ Arquivo songs_with_attributes_and_lyrics.csv não encontrado!\")\n",
    "        print(\"\\nArquivos disponíveis no download:\")\n",
    "        for file in Path(path).glob(\"*.csv\"):\n",
    "            print(f\"- {file.name}\")\n",
    "    \n",
    "except Exception as e:\n",
    "    print(f\"Erro ao fazer download: {e}\")"
   ]
  },
  {
   "cell_type": "code",
   "execution_count": 4,
   "id": "a7bb4dc1",
   "metadata": {},
   "outputs": [],
   "source": [
    "df = pd.read_csv('../datasets/spotify_songs.csv')"
   ]
  },
  {
   "cell_type": "markdown",
   "id": "9453aea1",
   "metadata": {},
   "source": [
    "# Conhecendo as Features"
   ]
  },
  {
   "cell_type": "code",
   "execution_count": 5,
   "id": "95f2bfef",
   "metadata": {},
   "outputs": [
    {
     "data": {
      "application/vnd.microsoft.datawrangler.viewer.v0+json": {
       "columns": [
        {
         "name": "index",
         "rawType": "int64",
         "type": "integer"
        },
        {
         "name": "id",
         "rawType": "object",
         "type": "string"
        },
        {
         "name": "name",
         "rawType": "object",
         "type": "string"
        },
        {
         "name": "album_name",
         "rawType": "object",
         "type": "unknown"
        },
        {
         "name": "artists",
         "rawType": "object",
         "type": "string"
        },
        {
         "name": "danceability",
         "rawType": "float64",
         "type": "float"
        },
        {
         "name": "energy",
         "rawType": "float64",
         "type": "float"
        },
        {
         "name": "key",
         "rawType": "object",
         "type": "string"
        },
        {
         "name": "loudness",
         "rawType": "float64",
         "type": "float"
        },
        {
         "name": "mode",
         "rawType": "object",
         "type": "string"
        },
        {
         "name": "speechiness",
         "rawType": "float64",
         "type": "float"
        },
        {
         "name": "acousticness",
         "rawType": "float64",
         "type": "float"
        },
        {
         "name": "instrumentalness",
         "rawType": "float64",
         "type": "float"
        },
        {
         "name": "liveness",
         "rawType": "float64",
         "type": "float"
        },
        {
         "name": "valence",
         "rawType": "float64",
         "type": "float"
        },
        {
         "name": "tempo",
         "rawType": "float64",
         "type": "float"
        },
        {
         "name": "duration_ms",
         "rawType": "float64",
         "type": "float"
        },
        {
         "name": "lyrics",
         "rawType": "object",
         "type": "string"
        }
       ],
       "ref": "99665c7e-d764-4e89-8ef3-92c70fdc3499",
       "rows": [
        [
         "0",
         "0Prct5TDjAnEgIqbxcldY9",
         "!",
         "UNDEN!ABLE",
         "['HELLYEAH']",
         "0.415",
         "0.605",
         "7",
         "-11.157",
         "1",
         "0.0575",
         "0.00116",
         "0.838",
         "0.471",
         "0.193",
         "100.059",
         "79500.0",
         "He said he came from Jamaica,\n he owned a couple acres A couple fake visas 'cause he never got his\n papers Gave up on love fucking with them heart breakers But he was\n getting money with the movers and the shakers He was mixed with a\n couple things, bald like a couple rings Bricks in the condo and grams\n to sing-sing Left arm,\n baby mother tatted 5-year bid up North when they ratted Anyway I felt\n him, helped him, put him on lock,\n seat-belt him Took him out to Belgium, welcome Bitches this pretty,\n that's seldom This box better than the box he was held in I'm Momma\n Dee in that order, I call him Daddy like daughters He like it when I\n get drunk, but I like it when he be sober That's top of the toppa,\n I never fuck with beginners I let him play with my pussy then lick it\n off of his fingers, I'm in the zone They holler at me, but it's you,\n you, this ain't high school Me and my crew,\n we can slide through Give it to you whenever you want,\n whip it whenever you want Baby it's yours Anywhere, everywhere,\n baby it's your world, ain't it?\n (alright) Baby it's your world, ain't it?\n Uh, she got a nigga at home and one on the side Best friend is a\n dyke, they fucked around a few times Her and her momma alike,\n so all they do is fight I tell her \"make me some money\",\n she tell me \"make me a wife\" I tell that bitch \"you crazy,\n fuck wrong with you?\" And excuse my French,\n but I'm a long kisser And then she try to tell me I'm the only one\n that's hitting And I say \"what about them niggas?\" She say:\n \"what about them niggas?\" You right, what you doing tonight?\n Put on something tight, don't judge me,\n I'd get life She love me like a brother,\n but fuck me like a husband Pussy like a oven,\n too hot to put my tongue in All I had to do is rub it,\n the genie out the bottle Pussy so wet,\n I'mma need goggles She tell me that's it's mine,\n I tell her \"stop lying, mine and who else?\n \" She say worry about yourself Lil Tune They holler at me,\n but it's you, you, this ain't high school Me and my crew,\n we can slide through Give it to you whenever you want,\n whip it whenever you want Baby it's yours\n Anywhere, everywhere, baby it's your world, ain't it?\n Baby it's your world, ain't it?\n I know you want it boy, I see you tryin' Just keep on pushing,\n I'mma let you slide in Just close your eyes and,\n this horizon It's ready, come get you some Yeah, yeah, yeah, yeah"
        ],
        [
         "1",
         "2ASl4wirkeYm3OWZxXKYuq",
         "!!",
         null,
         "Yxngxr1",
         "0.788",
         "0.648",
         "7",
         "-9.135",
         "0",
         "0.315",
         "0.9",
         "0.0",
         "0.176",
         "0.287",
         "79.998",
         "114000.0",
         "Fucked a bitch, now she running with my kids\n And you said I never listen, yeah, yeah\n Yeah, yeah, yeah\n Tell me all the things 'bout your family\n Struggle with your words, said you're rambling\n Always playing games but you're gambling\n But you got me on a string and I'm dancing\n Tell me your childhood TV shows\n Tell me something that I could run with\n So I feel lucky\n So I feel lucky, yeah\n I'm only here for love\n Tell me all the things about you, baby\n I won't know\n I'm only here for love\n Tell me all the things about you, baby\n I won't know\n I'm only here for love\n Tell me all the things about you, baby\n I won't know\n I'm only here for love, oh-oh-oh-oh\n Got a tough heart 'cause of your rough start\n But you love cars\n And I love stars\n And your main dream is the only thing you see\n But you never fuck with me\n But I'm more than I seem, yeah\n Comin' home to you, baby\n And the way you flick your hair makes me crazy\n I've been making so much time for you lately\n But you never have time for me lately\n I'm only here for love\n Tell me all the things about you, baby\n I won't know\n I'm only here for love\n Tell me all the things about you, baby\n I won't know\n I'm only here for love\n Tell me all the things about you, baby\n I won't know\n I'm only here for love, oh-oh-oh-oh\n I'm only here for love, oh-oh-oh-oh\n "
        ],
        [
         "2",
         "69lcggVPmOr9cvPx9kLiiN",
         "!!! - Interlude",
         "Where I Belong EP",
         "['Glowie']",
         "0.0",
         "0.0354",
         "7",
         "-20.151",
         "0",
         "0.0",
         "0.908",
         "0.0",
         "0.479",
         "0.0",
         "0.0",
         "11413.0",
         "Oh, my God, I'm going crazy\n "
        ],
        [
         "3",
         "4U7dlZjg1s9pjdppqZy0fm",
         "!!De Repente!!",
         "Un Palo Al Agua (20 Grandes Canciones)",
         "['Rosendo']",
         "0.657",
         "0.882",
         "5",
         "-6.34",
         "1",
         "0.0385",
         "0.0074",
         "1.27e-05",
         "0.0474",
         "0.939",
         "123.588",
         "198173.0",
         "Continuamente se extraña la gente si no puede ser verdad\n que de repente tan fácilmente material sin estrenar\n sin estrenar, material sin estrenar.\n De nada entiendo, pero me defiendo con la goma de borrar\n y me sorprendo de como vendo material sin estrenar\n sin estrenar, material sin estrenar,\n material sin estrenar, material sin estrenar.\n Cuando el cliente saco los dientes y me pongo a vacilar\n y de repente me hago de vientre, material sin estrenar\n sin estrenar, material sin estrenar.\n Parece caro, pero no me paro y sin volver un paso atrás\n entro de frente contra la corriente material sin estrenar\n sin estrenar, material sin estrenar,\n material sin estrenar, material sin estrenar.\n "
        ],
        [
         "4",
         "4v1IBp3Y3rpkWmWzIlkYju",
         "!!De Repente!!",
         "Fuera De Lugar",
         "['Rosendo']",
         "0.659",
         "0.893",
         "5",
         "-8.531",
         "1",
         "0.0411",
         "0.0922",
         "1.91e-05",
         "0.0534",
         "0.951",
         "123.6",
         "199827.0",
         "Continuamente se extraña la gente si no puede ser verdad\n que de repente tan fácilmente material sin estrenar\n sin estrenar, material sin estrenar.\n De nada entiendo, pero me defiendo con la goma de borrar\n y me sorprendo de como vendo material sin estrenar\n sin estrenar, material sin estrenar,\n material sin estrenar, material sin estrenar.\n Cuando el cliente saco los dientes y me pongo a vacilar\n y de repente me hago de vientre, material sin estrenar\n sin estrenar, material sin estrenar.\n Parece caro, pero no me paro y sin volver un paso atrás\n entro de frente contra la corriente material sin estrenar\n sin estrenar, material sin estrenar,\n material sin estrenar, material sin estrenar.\n "
        ]
       ],
       "shape": {
        "columns": 17,
        "rows": 5
       }
      },
      "text/html": [
       "<div>\n",
       "<style scoped>\n",
       "    .dataframe tbody tr th:only-of-type {\n",
       "        vertical-align: middle;\n",
       "    }\n",
       "\n",
       "    .dataframe tbody tr th {\n",
       "        vertical-align: top;\n",
       "    }\n",
       "\n",
       "    .dataframe thead th {\n",
       "        text-align: right;\n",
       "    }\n",
       "</style>\n",
       "<table border=\"1\" class=\"dataframe\">\n",
       "  <thead>\n",
       "    <tr style=\"text-align: right;\">\n",
       "      <th></th>\n",
       "      <th>id</th>\n",
       "      <th>name</th>\n",
       "      <th>album_name</th>\n",
       "      <th>artists</th>\n",
       "      <th>danceability</th>\n",
       "      <th>energy</th>\n",
       "      <th>key</th>\n",
       "      <th>loudness</th>\n",
       "      <th>mode</th>\n",
       "      <th>speechiness</th>\n",
       "      <th>acousticness</th>\n",
       "      <th>instrumentalness</th>\n",
       "      <th>liveness</th>\n",
       "      <th>valence</th>\n",
       "      <th>tempo</th>\n",
       "      <th>duration_ms</th>\n",
       "      <th>lyrics</th>\n",
       "    </tr>\n",
       "  </thead>\n",
       "  <tbody>\n",
       "    <tr>\n",
       "      <th>0</th>\n",
       "      <td>0Prct5TDjAnEgIqbxcldY9</td>\n",
       "      <td>!</td>\n",
       "      <td>UNDEN!ABLE</td>\n",
       "      <td>['HELLYEAH']</td>\n",
       "      <td>0.415</td>\n",
       "      <td>0.6050</td>\n",
       "      <td>7</td>\n",
       "      <td>-11.157</td>\n",
       "      <td>1</td>\n",
       "      <td>0.0575</td>\n",
       "      <td>0.00116</td>\n",
       "      <td>0.838000</td>\n",
       "      <td>0.4710</td>\n",
       "      <td>0.193</td>\n",
       "      <td>100.059</td>\n",
       "      <td>79500.0</td>\n",
       "      <td>He said he came from Jamaica,\\n he owned a cou...</td>\n",
       "    </tr>\n",
       "    <tr>\n",
       "      <th>1</th>\n",
       "      <td>2ASl4wirkeYm3OWZxXKYuq</td>\n",
       "      <td>!!</td>\n",
       "      <td>NaN</td>\n",
       "      <td>Yxngxr1</td>\n",
       "      <td>0.788</td>\n",
       "      <td>0.6480</td>\n",
       "      <td>7</td>\n",
       "      <td>-9.135</td>\n",
       "      <td>0</td>\n",
       "      <td>0.3150</td>\n",
       "      <td>0.90000</td>\n",
       "      <td>0.000000</td>\n",
       "      <td>0.1760</td>\n",
       "      <td>0.287</td>\n",
       "      <td>79.998</td>\n",
       "      <td>114000.0</td>\n",
       "      <td>Fucked a bitch, now she running with my kids\\n...</td>\n",
       "    </tr>\n",
       "    <tr>\n",
       "      <th>2</th>\n",
       "      <td>69lcggVPmOr9cvPx9kLiiN</td>\n",
       "      <td>!!! - Interlude</td>\n",
       "      <td>Where I Belong EP</td>\n",
       "      <td>['Glowie']</td>\n",
       "      <td>0.000</td>\n",
       "      <td>0.0354</td>\n",
       "      <td>7</td>\n",
       "      <td>-20.151</td>\n",
       "      <td>0</td>\n",
       "      <td>0.0000</td>\n",
       "      <td>0.90800</td>\n",
       "      <td>0.000000</td>\n",
       "      <td>0.4790</td>\n",
       "      <td>0.000</td>\n",
       "      <td>0.000</td>\n",
       "      <td>11413.0</td>\n",
       "      <td>Oh, my God, I'm going crazy\\n</td>\n",
       "    </tr>\n",
       "    <tr>\n",
       "      <th>3</th>\n",
       "      <td>4U7dlZjg1s9pjdppqZy0fm</td>\n",
       "      <td>!!De Repente!!</td>\n",
       "      <td>Un Palo Al Agua (20 Grandes Canciones)</td>\n",
       "      <td>['Rosendo']</td>\n",
       "      <td>0.657</td>\n",
       "      <td>0.8820</td>\n",
       "      <td>5</td>\n",
       "      <td>-6.340</td>\n",
       "      <td>1</td>\n",
       "      <td>0.0385</td>\n",
       "      <td>0.00740</td>\n",
       "      <td>0.000013</td>\n",
       "      <td>0.0474</td>\n",
       "      <td>0.939</td>\n",
       "      <td>123.588</td>\n",
       "      <td>198173.0</td>\n",
       "      <td>Continuamente se extraña la gente si no puede ...</td>\n",
       "    </tr>\n",
       "    <tr>\n",
       "      <th>4</th>\n",
       "      <td>4v1IBp3Y3rpkWmWzIlkYju</td>\n",
       "      <td>!!De Repente!!</td>\n",
       "      <td>Fuera De Lugar</td>\n",
       "      <td>['Rosendo']</td>\n",
       "      <td>0.659</td>\n",
       "      <td>0.8930</td>\n",
       "      <td>5</td>\n",
       "      <td>-8.531</td>\n",
       "      <td>1</td>\n",
       "      <td>0.0411</td>\n",
       "      <td>0.09220</td>\n",
       "      <td>0.000019</td>\n",
       "      <td>0.0534</td>\n",
       "      <td>0.951</td>\n",
       "      <td>123.600</td>\n",
       "      <td>199827.0</td>\n",
       "      <td>Continuamente se extraña la gente si no puede ...</td>\n",
       "    </tr>\n",
       "  </tbody>\n",
       "</table>\n",
       "</div>"
      ],
      "text/plain": [
       "                       id             name  \\\n",
       "0  0Prct5TDjAnEgIqbxcldY9                !   \n",
       "1  2ASl4wirkeYm3OWZxXKYuq               !!   \n",
       "2  69lcggVPmOr9cvPx9kLiiN  !!! - Interlude   \n",
       "3  4U7dlZjg1s9pjdppqZy0fm   !!De Repente!!   \n",
       "4  4v1IBp3Y3rpkWmWzIlkYju   !!De Repente!!   \n",
       "\n",
       "                               album_name       artists  danceability  energy  \\\n",
       "0                              UNDEN!ABLE  ['HELLYEAH']         0.415  0.6050   \n",
       "1                                     NaN       Yxngxr1         0.788  0.6480   \n",
       "2                       Where I Belong EP    ['Glowie']         0.000  0.0354   \n",
       "3  Un Palo Al Agua (20 Grandes Canciones)   ['Rosendo']         0.657  0.8820   \n",
       "4                          Fuera De Lugar   ['Rosendo']         0.659  0.8930   \n",
       "\n",
       "  key  loudness mode  speechiness  acousticness  instrumentalness  liveness  \\\n",
       "0   7   -11.157    1       0.0575       0.00116          0.838000    0.4710   \n",
       "1   7    -9.135    0       0.3150       0.90000          0.000000    0.1760   \n",
       "2   7   -20.151    0       0.0000       0.90800          0.000000    0.4790   \n",
       "3   5    -6.340    1       0.0385       0.00740          0.000013    0.0474   \n",
       "4   5    -8.531    1       0.0411       0.09220          0.000019    0.0534   \n",
       "\n",
       "   valence    tempo  duration_ms  \\\n",
       "0    0.193  100.059      79500.0   \n",
       "1    0.287   79.998     114000.0   \n",
       "2    0.000    0.000      11413.0   \n",
       "3    0.939  123.588     198173.0   \n",
       "4    0.951  123.600     199827.0   \n",
       "\n",
       "                                              lyrics  \n",
       "0  He said he came from Jamaica,\\n he owned a cou...  \n",
       "1  Fucked a bitch, now she running with my kids\\n...  \n",
       "2                     Oh, my God, I'm going crazy\\n   \n",
       "3  Continuamente se extraña la gente si no puede ...  \n",
       "4  Continuamente se extraña la gente si no puede ...  "
      ]
     },
     "execution_count": 5,
     "metadata": {},
     "output_type": "execute_result"
    }
   ],
   "source": [
    "df.head()"
   ]
  },
  {
   "cell_type": "code",
   "execution_count": 6,
   "id": "1ad5b3da",
   "metadata": {},
   "outputs": [
    {
     "name": "stdout",
     "output_type": "stream",
     "text": [
      "As features do dataset são:\n",
      "1. id\n",
      "2. name\n",
      "3. album_name\n",
      "4. artists\n",
      "5. danceability\n",
      "6. energy\n",
      "7. key\n",
      "8. loudness\n",
      "9. mode\n",
      "10. speechiness\n",
      "11. acousticness\n",
      "12. instrumentalness\n",
      "13. liveness\n",
      "14. valence\n",
      "15. tempo\n",
      "16. duration_ms\n",
      "17. lyrics\n"
     ]
    }
   ],
   "source": [
    "columns = df.columns\n",
    "\n",
    "print('As features do dataset são:')\n",
    "for(i, col) in enumerate(columns):\n",
    "    print(f'{i+1}. {col}')"
   ]
  },
  {
   "cell_type": "markdown",
   "id": "8ce0942c",
   "metadata": {},
   "source": [
    "# Limpeza do dados"
   ]
  },
  {
   "cell_type": "markdown",
   "id": "91cfe662",
   "metadata": {},
   "source": [
    "## Análise de nulos"
   ]
  },
  {
   "cell_type": "code",
   "execution_count": 7,
   "id": "1547d0fb",
   "metadata": {},
   "outputs": [],
   "source": [
    "def verificar_nulos(dataframe):\n",
    "    nulos = dataframe.isnull().sum()\n",
    "    total = dataframe.shape[0]\n",
    "    porcentagem = (nulos / total) * 100\n",
    "    resultado = pd.DataFrame({'Nulos': nulos, 'Porcentagem (%)': porcentagem})\n",
    "    return resultado"
   ]
  },
  {
   "cell_type": "code",
   "execution_count": 8,
   "id": "19ce0900",
   "metadata": {},
   "outputs": [
    {
     "data": {
      "application/vnd.microsoft.datawrangler.viewer.v0+json": {
       "columns": [
        {
         "name": "index",
         "rawType": "object",
         "type": "string"
        },
        {
         "name": "Nulos",
         "rawType": "int64",
         "type": "integer"
        },
        {
         "name": "Porcentagem (%)",
         "rawType": "float64",
         "type": "float"
        }
       ],
       "ref": "0c4aec18-9199-45bb-9aa2-44544cf5ff71",
       "rows": [
        [
         "id",
         "0",
         "0.0"
        ],
        [
         "name",
         "11",
         "0.0011514466356822844"
        ],
        [
         "album_name",
         "569763",
         "59.64106268056777"
        ],
        [
         "artists",
         "2",
         "0.00020935393376041536"
        ],
        [
         "danceability",
         "0",
         "0.0"
        ],
        [
         "energy",
         "0",
         "0.0"
        ],
        [
         "key",
         "0",
         "0.0"
        ],
        [
         "loudness",
         "0",
         "0.0"
        ],
        [
         "mode",
         "0",
         "0.0"
        ],
        [
         "speechiness",
         "0",
         "0.0"
        ],
        [
         "acousticness",
         "0",
         "0.0"
        ],
        [
         "instrumentalness",
         "0",
         "0.0"
        ],
        [
         "liveness",
         "0",
         "0.0"
        ],
        [
         "valence",
         "0",
         "0.0"
        ],
        [
         "tempo",
         "0",
         "0.0"
        ],
        [
         "duration_ms",
         "0",
         "0.0"
        ],
        [
         "lyrics",
         "13",
         "0.0013608005694427"
        ]
       ],
       "shape": {
        "columns": 2,
        "rows": 17
       }
      },
      "text/html": [
       "<div>\n",
       "<style scoped>\n",
       "    .dataframe tbody tr th:only-of-type {\n",
       "        vertical-align: middle;\n",
       "    }\n",
       "\n",
       "    .dataframe tbody tr th {\n",
       "        vertical-align: top;\n",
       "    }\n",
       "\n",
       "    .dataframe thead th {\n",
       "        text-align: right;\n",
       "    }\n",
       "</style>\n",
       "<table border=\"1\" class=\"dataframe\">\n",
       "  <thead>\n",
       "    <tr style=\"text-align: right;\">\n",
       "      <th></th>\n",
       "      <th>Nulos</th>\n",
       "      <th>Porcentagem (%)</th>\n",
       "    </tr>\n",
       "  </thead>\n",
       "  <tbody>\n",
       "    <tr>\n",
       "      <th>id</th>\n",
       "      <td>0</td>\n",
       "      <td>0.000000</td>\n",
       "    </tr>\n",
       "    <tr>\n",
       "      <th>name</th>\n",
       "      <td>11</td>\n",
       "      <td>0.001151</td>\n",
       "    </tr>\n",
       "    <tr>\n",
       "      <th>album_name</th>\n",
       "      <td>569763</td>\n",
       "      <td>59.641063</td>\n",
       "    </tr>\n",
       "    <tr>\n",
       "      <th>artists</th>\n",
       "      <td>2</td>\n",
       "      <td>0.000209</td>\n",
       "    </tr>\n",
       "    <tr>\n",
       "      <th>danceability</th>\n",
       "      <td>0</td>\n",
       "      <td>0.000000</td>\n",
       "    </tr>\n",
       "    <tr>\n",
       "      <th>energy</th>\n",
       "      <td>0</td>\n",
       "      <td>0.000000</td>\n",
       "    </tr>\n",
       "    <tr>\n",
       "      <th>key</th>\n",
       "      <td>0</td>\n",
       "      <td>0.000000</td>\n",
       "    </tr>\n",
       "    <tr>\n",
       "      <th>loudness</th>\n",
       "      <td>0</td>\n",
       "      <td>0.000000</td>\n",
       "    </tr>\n",
       "    <tr>\n",
       "      <th>mode</th>\n",
       "      <td>0</td>\n",
       "      <td>0.000000</td>\n",
       "    </tr>\n",
       "    <tr>\n",
       "      <th>speechiness</th>\n",
       "      <td>0</td>\n",
       "      <td>0.000000</td>\n",
       "    </tr>\n",
       "    <tr>\n",
       "      <th>acousticness</th>\n",
       "      <td>0</td>\n",
       "      <td>0.000000</td>\n",
       "    </tr>\n",
       "    <tr>\n",
       "      <th>instrumentalness</th>\n",
       "      <td>0</td>\n",
       "      <td>0.000000</td>\n",
       "    </tr>\n",
       "    <tr>\n",
       "      <th>liveness</th>\n",
       "      <td>0</td>\n",
       "      <td>0.000000</td>\n",
       "    </tr>\n",
       "    <tr>\n",
       "      <th>valence</th>\n",
       "      <td>0</td>\n",
       "      <td>0.000000</td>\n",
       "    </tr>\n",
       "    <tr>\n",
       "      <th>tempo</th>\n",
       "      <td>0</td>\n",
       "      <td>0.000000</td>\n",
       "    </tr>\n",
       "    <tr>\n",
       "      <th>duration_ms</th>\n",
       "      <td>0</td>\n",
       "      <td>0.000000</td>\n",
       "    </tr>\n",
       "    <tr>\n",
       "      <th>lyrics</th>\n",
       "      <td>13</td>\n",
       "      <td>0.001361</td>\n",
       "    </tr>\n",
       "  </tbody>\n",
       "</table>\n",
       "</div>"
      ],
      "text/plain": [
       "                   Nulos  Porcentagem (%)\n",
       "id                     0         0.000000\n",
       "name                  11         0.001151\n",
       "album_name        569763        59.641063\n",
       "artists                2         0.000209\n",
       "danceability           0         0.000000\n",
       "energy                 0         0.000000\n",
       "key                    0         0.000000\n",
       "loudness               0         0.000000\n",
       "mode                   0         0.000000\n",
       "speechiness            0         0.000000\n",
       "acousticness           0         0.000000\n",
       "instrumentalness       0         0.000000\n",
       "liveness               0         0.000000\n",
       "valence                0         0.000000\n",
       "tempo                  0         0.000000\n",
       "duration_ms            0         0.000000\n",
       "lyrics                13         0.001361"
      ]
     },
     "execution_count": 8,
     "metadata": {},
     "output_type": "execute_result"
    }
   ],
   "source": [
    "verificar_nulos(df)"
   ]
  },
  {
   "cell_type": "markdown",
   "id": "78ae7b1e",
   "metadata": {},
   "source": [
    "## Análise descritiva"
   ]
  },
  {
   "cell_type": "code",
   "execution_count": 9,
   "id": "ce4f84fa",
   "metadata": {},
   "outputs": [
    {
     "data": {
      "application/vnd.microsoft.datawrangler.viewer.v0+json": {
       "columns": [
        {
         "name": "index",
         "rawType": "object",
         "type": "string"
        },
        {
         "name": "danceability",
         "rawType": "float64",
         "type": "float"
        },
        {
         "name": "energy",
         "rawType": "float64",
         "type": "float"
        },
        {
         "name": "loudness",
         "rawType": "float64",
         "type": "float"
        },
        {
         "name": "speechiness",
         "rawType": "float64",
         "type": "float"
        },
        {
         "name": "acousticness",
         "rawType": "float64",
         "type": "float"
        },
        {
         "name": "instrumentalness",
         "rawType": "float64",
         "type": "float"
        },
        {
         "name": "liveness",
         "rawType": "float64",
         "type": "float"
        },
        {
         "name": "valence",
         "rawType": "float64",
         "type": "float"
        },
        {
         "name": "tempo",
         "rawType": "float64",
         "type": "float"
        },
        {
         "name": "duration_ms",
         "rawType": "float64",
         "type": "float"
        }
       ],
       "ref": "76aad119-67c3-40d8-b7c8-859067daa132",
       "rows": [
        [
         "count",
         "955320.0",
         "955320.0",
         "955320.0",
         "955320.0",
         "955320.0",
         "955320.0",
         "955320.0",
         "955320.0",
         "955320.0",
         "955320.0"
        ],
        [
         "mean",
         "0.5507097967173303",
         "0.6524418948258176",
         "-7.833732265628272",
         "0.0836383656785161",
         "0.28296218173311566",
         "0.08187479652597036",
         "0.2201897525331826",
         "0.4881185717769962",
         "122.22609278775698",
         "234144.06942595151"
        ],
        [
         "std",
         "0.16978443120172312",
         "0.23882392075072048",
         "3.7920179290405125",
         "0.09292913447856532",
         "0.31180000572369265",
         "0.21278949781049866",
         "0.19593764154606919",
         "0.2514681400906729",
         "29.536303368422278",
         "90683.67783334361"
        ],
        [
         "min",
         "0.0",
         "0.0",
         "-60.0",
         "0.0",
         "0.0",
         "0.0",
         "0.0",
         "0.0",
         "0.0",
         "1586.0"
        ],
        [
         "25%",
         "0.436",
         "0.482",
         "-9.75",
         "0.0345",
         "0.0119",
         "0.0",
         "0.0989",
         "0.282",
         "99.021",
         "184933.0"
        ],
        [
         "50%",
         "0.5579999999999999",
         "0.687",
         "-7.041",
         "0.0478",
         "0.142",
         "3.91e-05",
         "0.137",
         "0.477",
         "120.661",
         "221307.0"
        ],
        [
         "75%",
         "0.675",
         "0.857",
         "-5.148",
         "0.087625",
         "0.518",
         "0.00866",
         "0.285",
         "0.69",
         "140.094",
         "265640.0"
        ],
        [
         "max",
         "0.993",
         "1.0",
         "4.882",
         "0.966",
         "0.996",
         "1.0",
         "1.0",
         "1.0",
         "246.13",
         "5764624.0"
        ]
       ],
       "shape": {
        "columns": 10,
        "rows": 8
       }
      },
      "text/html": [
       "<div>\n",
       "<style scoped>\n",
       "    .dataframe tbody tr th:only-of-type {\n",
       "        vertical-align: middle;\n",
       "    }\n",
       "\n",
       "    .dataframe tbody tr th {\n",
       "        vertical-align: top;\n",
       "    }\n",
       "\n",
       "    .dataframe thead th {\n",
       "        text-align: right;\n",
       "    }\n",
       "</style>\n",
       "<table border=\"1\" class=\"dataframe\">\n",
       "  <thead>\n",
       "    <tr style=\"text-align: right;\">\n",
       "      <th></th>\n",
       "      <th>danceability</th>\n",
       "      <th>energy</th>\n",
       "      <th>loudness</th>\n",
       "      <th>speechiness</th>\n",
       "      <th>acousticness</th>\n",
       "      <th>instrumentalness</th>\n",
       "      <th>liveness</th>\n",
       "      <th>valence</th>\n",
       "      <th>tempo</th>\n",
       "      <th>duration_ms</th>\n",
       "    </tr>\n",
       "  </thead>\n",
       "  <tbody>\n",
       "    <tr>\n",
       "      <th>count</th>\n",
       "      <td>955320.000000</td>\n",
       "      <td>955320.000000</td>\n",
       "      <td>955320.000000</td>\n",
       "      <td>955320.000000</td>\n",
       "      <td>955320.000000</td>\n",
       "      <td>955320.000000</td>\n",
       "      <td>955320.000000</td>\n",
       "      <td>955320.000000</td>\n",
       "      <td>955320.000000</td>\n",
       "      <td>9.553200e+05</td>\n",
       "    </tr>\n",
       "    <tr>\n",
       "      <th>mean</th>\n",
       "      <td>0.550710</td>\n",
       "      <td>0.652442</td>\n",
       "      <td>-7.833732</td>\n",
       "      <td>0.083638</td>\n",
       "      <td>0.282962</td>\n",
       "      <td>0.081875</td>\n",
       "      <td>0.220190</td>\n",
       "      <td>0.488119</td>\n",
       "      <td>122.226093</td>\n",
       "      <td>2.341441e+05</td>\n",
       "    </tr>\n",
       "    <tr>\n",
       "      <th>std</th>\n",
       "      <td>0.169784</td>\n",
       "      <td>0.238824</td>\n",
       "      <td>3.792018</td>\n",
       "      <td>0.092929</td>\n",
       "      <td>0.311800</td>\n",
       "      <td>0.212789</td>\n",
       "      <td>0.195938</td>\n",
       "      <td>0.251468</td>\n",
       "      <td>29.536303</td>\n",
       "      <td>9.068368e+04</td>\n",
       "    </tr>\n",
       "    <tr>\n",
       "      <th>min</th>\n",
       "      <td>0.000000</td>\n",
       "      <td>0.000000</td>\n",
       "      <td>-60.000000</td>\n",
       "      <td>0.000000</td>\n",
       "      <td>0.000000</td>\n",
       "      <td>0.000000</td>\n",
       "      <td>0.000000</td>\n",
       "      <td>0.000000</td>\n",
       "      <td>0.000000</td>\n",
       "      <td>1.586000e+03</td>\n",
       "    </tr>\n",
       "    <tr>\n",
       "      <th>25%</th>\n",
       "      <td>0.436000</td>\n",
       "      <td>0.482000</td>\n",
       "      <td>-9.750000</td>\n",
       "      <td>0.034500</td>\n",
       "      <td>0.011900</td>\n",
       "      <td>0.000000</td>\n",
       "      <td>0.098900</td>\n",
       "      <td>0.282000</td>\n",
       "      <td>99.021000</td>\n",
       "      <td>1.849330e+05</td>\n",
       "    </tr>\n",
       "    <tr>\n",
       "      <th>50%</th>\n",
       "      <td>0.558000</td>\n",
       "      <td>0.687000</td>\n",
       "      <td>-7.041000</td>\n",
       "      <td>0.047800</td>\n",
       "      <td>0.142000</td>\n",
       "      <td>0.000039</td>\n",
       "      <td>0.137000</td>\n",
       "      <td>0.477000</td>\n",
       "      <td>120.661000</td>\n",
       "      <td>2.213070e+05</td>\n",
       "    </tr>\n",
       "    <tr>\n",
       "      <th>75%</th>\n",
       "      <td>0.675000</td>\n",
       "      <td>0.857000</td>\n",
       "      <td>-5.148000</td>\n",
       "      <td>0.087625</td>\n",
       "      <td>0.518000</td>\n",
       "      <td>0.008660</td>\n",
       "      <td>0.285000</td>\n",
       "      <td>0.690000</td>\n",
       "      <td>140.094000</td>\n",
       "      <td>2.656400e+05</td>\n",
       "    </tr>\n",
       "    <tr>\n",
       "      <th>max</th>\n",
       "      <td>0.993000</td>\n",
       "      <td>1.000000</td>\n",
       "      <td>4.882000</td>\n",
       "      <td>0.966000</td>\n",
       "      <td>0.996000</td>\n",
       "      <td>1.000000</td>\n",
       "      <td>1.000000</td>\n",
       "      <td>1.000000</td>\n",
       "      <td>246.130000</td>\n",
       "      <td>5.764624e+06</td>\n",
       "    </tr>\n",
       "  </tbody>\n",
       "</table>\n",
       "</div>"
      ],
      "text/plain": [
       "        danceability         energy       loudness    speechiness  \\\n",
       "count  955320.000000  955320.000000  955320.000000  955320.000000   \n",
       "mean        0.550710       0.652442      -7.833732       0.083638   \n",
       "std         0.169784       0.238824       3.792018       0.092929   \n",
       "min         0.000000       0.000000     -60.000000       0.000000   \n",
       "25%         0.436000       0.482000      -9.750000       0.034500   \n",
       "50%         0.558000       0.687000      -7.041000       0.047800   \n",
       "75%         0.675000       0.857000      -5.148000       0.087625   \n",
       "max         0.993000       1.000000       4.882000       0.966000   \n",
       "\n",
       "        acousticness  instrumentalness       liveness        valence  \\\n",
       "count  955320.000000     955320.000000  955320.000000  955320.000000   \n",
       "mean        0.282962          0.081875       0.220190       0.488119   \n",
       "std         0.311800          0.212789       0.195938       0.251468   \n",
       "min         0.000000          0.000000       0.000000       0.000000   \n",
       "25%         0.011900          0.000000       0.098900       0.282000   \n",
       "50%         0.142000          0.000039       0.137000       0.477000   \n",
       "75%         0.518000          0.008660       0.285000       0.690000   \n",
       "max         0.996000          1.000000       1.000000       1.000000   \n",
       "\n",
       "               tempo   duration_ms  \n",
       "count  955320.000000  9.553200e+05  \n",
       "mean      122.226093  2.341441e+05  \n",
       "std        29.536303  9.068368e+04  \n",
       "min         0.000000  1.586000e+03  \n",
       "25%        99.021000  1.849330e+05  \n",
       "50%       120.661000  2.213070e+05  \n",
       "75%       140.094000  2.656400e+05  \n",
       "max       246.130000  5.764624e+06  "
      ]
     },
     "execution_count": 9,
     "metadata": {},
     "output_type": "execute_result"
    }
   ],
   "source": [
    "df.describe()"
   ]
  },
  {
   "cell_type": "markdown",
   "id": "ffb877e7",
   "metadata": {},
   "source": [
    "# Gerar o dataframe"
   ]
  },
  {
   "cell_type": "code",
   "execution_count": 10,
   "id": "e12bde60",
   "metadata": {},
   "outputs": [],
   "source": [
    "df.to_csv('../datasets/data_clean.csv', index=False, encoding='utf-8')"
   ]
  },
  {
   "cell_type": "markdown",
   "id": "b2a7e50b",
   "metadata": {},
   "source": [
    "# Resultados"
   ]
  },
  {
   "cell_type": "markdown",
   "id": "cc0ce10c",
   "metadata": {},
   "source": [
    "Aparentemente os dados desse dataset de 2000 músicas está tratado. Foi encontrado apenas uma inconsistência de algumas musicas possirem o gênero \"set()\", que muito provavelmente foi erro de input."
   ]
  }
 ],
 "metadata": {
  "kernelspec": {
   "display_name": "spotify-music-recomendation-_5l54QgE",
   "language": "python",
   "name": "python3"
  },
  "language_info": {
   "codemirror_mode": {
    "name": "ipython",
    "version": 3
   },
   "file_extension": ".py",
   "mimetype": "text/x-python",
   "name": "python",
   "nbconvert_exporter": "python",
   "pygments_lexer": "ipython3",
   "version": "3.12.12"
  }
 },
 "nbformat": 4,
 "nbformat_minor": 5
}
