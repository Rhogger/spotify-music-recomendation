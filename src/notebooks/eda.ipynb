{
 "cells": [
  {
   "cell_type": "markdown",
   "id": "9dd0849f",
   "metadata": {},
   "source": [
    "# Configuração"
   ]
  },
  {
   "cell_type": "markdown",
   "id": "c0dda5a4",
   "metadata": {},
   "source": [
    "## Importação"
   ]
  },
  {
   "cell_type": "code",
   "execution_count": 1,
   "id": "be9f7a90",
   "metadata": {},
   "outputs": [],
   "source": [
    "import pandas as pd"
   ]
  },
  {
   "cell_type": "markdown",
   "id": "e2bdd9a2",
   "metadata": {},
   "source": [
    "## Definição do Dataframe"
   ]
  },
  {
   "cell_type": "code",
   "execution_count": 2,
   "id": "7623df0e",
   "metadata": {},
   "outputs": [],
   "source": [
    "df = pd.read_csv('../datasets/data_clean.csv')"
   ]
  },
  {
   "cell_type": "markdown",
   "id": "0aa23d11",
   "metadata": {},
   "source": [
    "# Análise Exploratória"
   ]
  }
 ],
 "metadata": {
  "kernelspec": {
   "display_name": "spotify-music-recomendation-_5l54QgE",
   "language": "python",
   "name": "python3"
  },
  "language_info": {
   "codemirror_mode": {
    "name": "ipython",
    "version": 3
   },
   "file_extension": ".py",
   "mimetype": "text/x-python",
   "name": "python",
   "nbconvert_exporter": "python",
   "pygments_lexer": "ipython3",
   "version": "3.12.12"
  }
 },
 "nbformat": 4,
 "nbformat_minor": 5
}
