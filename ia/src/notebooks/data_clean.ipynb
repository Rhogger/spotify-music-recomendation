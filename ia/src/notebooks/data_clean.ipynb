{
 "cells": [
  {
   "cell_type": "markdown",
   "id": "165c415b",
   "metadata": {},
   "source": [
    "# Configurações"
   ]
  },
  {
   "cell_type": "markdown",
   "id": "ed1ddf29",
   "metadata": {},
   "source": [
    "## Importações"
   ]
  },
  {
   "cell_type": "code",
   "execution_count": 9,
   "id": "87c7f2af",
   "metadata": {},
   "outputs": [],
   "source": [
    "import pandas as pd"
   ]
  },
  {
   "cell_type": "markdown",
   "id": "e7897bc0",
   "metadata": {},
   "source": [
    "## Definição do Dataframe"
   ]
  },
  {
   "cell_type": "code",
   "execution_count": 10,
   "id": "6fb27d8e",
   "metadata": {},
   "outputs": [
    {
     "name": "stdout",
     "output_type": "stream",
     "text": [
      "Iniciando download do dataset...\n",
      "Download concluído!\n",
      "Extraindo arquivos...\n",
      "Arquivos encontrados no ZIP: ['songs_normalize.csv']\n",
      "Extração concluída!\n",
      "Arquivo já possui o nome correto: 'spotify_top_2000_songs.csv'\n",
      "Arquivo ZIP temporário removido.\n",
      "\n",
      "Arquivos na pasta datasets:\n",
      "- spotify_top_2000_songs.csv\n",
      "- songs_normalize.csv\n",
      "Download concluído!\n",
      "Extraindo arquivos...\n",
      "Arquivos encontrados no ZIP: ['songs_normalize.csv']\n",
      "Extração concluída!\n",
      "Arquivo já possui o nome correto: 'spotify_top_2000_songs.csv'\n",
      "Arquivo ZIP temporário removido.\n",
      "\n",
      "Arquivos na pasta datasets:\n",
      "- spotify_top_2000_songs.csv\n",
      "- songs_normalize.csv\n"
     ]
    }
   ],
   "source": [
    "import requests\n",
    "import zipfile\n",
    "import os\n",
    "from pathlib import Path\n",
    "\n",
    "# URL do dataset\n",
    "url = \"https://www.kaggle.com/api/v1/datasets/download/abdelrahman16/spotify-analysis-and-visualization\"\n",
    "\n",
    "# Criar diretório datasets se não existir\n",
    "datasets_dir = Path(\"../datasets\")\n",
    "datasets_dir.mkdir(exist_ok=True)\n",
    "\n",
    "# Caminho temporário para salvar o arquivo zip\n",
    "temp_zip_path = Path(\"/tmp/spotify-analysis-and-visualization.zip\")\n",
    "\n",
    "print(\"Iniciando download do dataset...\")\n",
    "\n",
    "try:\n",
    "    # Fazer o download\n",
    "    response = requests.get(url, stream=True)\n",
    "    response.raise_for_status()  # Levanta exceção se houver erro HTTP\n",
    "    \n",
    "    # Salvar o arquivo zip temporariamente\n",
    "    with open(temp_zip_path, 'wb') as f:\n",
    "        for chunk in response.iter_content(chunk_size=8192):\n",
    "            f.write(chunk)\n",
    "    \n",
    "    print(f\"Download concluído!\")\n",
    "    \n",
    "    # Extrair o arquivo zip\n",
    "    print(\"Extraindo arquivos...\")\n",
    "    with zipfile.ZipFile(temp_zip_path, 'r') as zip_ref:\n",
    "        # Listar arquivos no zip\n",
    "        file_list = zip_ref.namelist()\n",
    "        print(f\"Arquivos encontrados no ZIP: {file_list}\")\n",
    "        \n",
    "        # Extrair todos os arquivos\n",
    "        zip_ref.extractall(datasets_dir)\n",
    "    \n",
    "    print(\"Extração concluída!\")\n",
    "    \n",
    "    # Procurar por arquivos CSV e renomear o principal\n",
    "    csv_files = list(datasets_dir.glob(\"*.csv\"))\n",
    "    if csv_files:\n",
    "        # Assumindo que queremos o primeiro arquivo CSV encontrado\n",
    "        original_csv = csv_files[0]\n",
    "        new_csv_path = datasets_dir / \"spotify_top_2000_songs.csv\"\n",
    "        \n",
    "        # Renomear o arquivo se necessário\n",
    "        if original_csv.name != \"spotify_top_2000_songs.csv\":\n",
    "            original_csv.rename(new_csv_path)\n",
    "            print(f\"Arquivo renomeado de '{original_csv.name}' para 'spotify_top_2000_songs.csv'\")\n",
    "        else:\n",
    "            print(\"Arquivo já possui o nome correto: 'spotify_top_2000_songs.csv'\")\n",
    "    \n",
    "    # Remover o arquivo zip temporário\n",
    "    temp_zip_path.unlink()\n",
    "    print(\"Arquivo ZIP temporário removido.\")\n",
    "    \n",
    "    # Listar arquivos finais na pasta datasets\n",
    "    print(\"\\nArquivos na pasta datasets:\")\n",
    "    for file in datasets_dir.iterdir():\n",
    "        if file.is_file():\n",
    "            print(f\"- {file.name}\")\n",
    "        \n",
    "except requests.exceptions.RequestException as e:\n",
    "    print(f\"Erro ao fazer download: {e}\")\n",
    "except zipfile.BadZipFile as e:\n",
    "    print(f\"Erro ao extrair arquivo zip: {e}\")\n",
    "except Exception as e:\n",
    "    print(f\"Erro inesperado: {e}\")\n",
    "finally:\n",
    "    # Garantir que o arquivo temporário seja removido mesmo em caso de erro\n",
    "    if temp_zip_path.exists():\n",
    "        temp_zip_path.unlink()\n",
    "        print(\"Arquivo ZIP temporário removido (cleanup).\")"
   ]
  },
  {
   "cell_type": "code",
   "execution_count": 11,
   "id": "a7bb4dc1",
   "metadata": {},
   "outputs": [],
   "source": [
    "df = pd.read_csv('../datasets/spotify_top_2000_songs.csv')"
   ]
  },
  {
   "cell_type": "markdown",
   "id": "9453aea1",
   "metadata": {},
   "source": [
    "# Conhecendo as Features"
   ]
  },
  {
   "cell_type": "code",
   "execution_count": 12,
   "id": "95f2bfef",
   "metadata": {},
   "outputs": [
    {
     "data": {
      "application/vnd.microsoft.datawrangler.viewer.v0+json": {
       "columns": [
        {
         "name": "index",
         "rawType": "int64",
         "type": "integer"
        },
        {
         "name": "artist",
         "rawType": "object",
         "type": "string"
        },
        {
         "name": "song",
         "rawType": "object",
         "type": "string"
        },
        {
         "name": "duration_ms",
         "rawType": "int64",
         "type": "integer"
        },
        {
         "name": "explicit",
         "rawType": "bool",
         "type": "boolean"
        },
        {
         "name": "year",
         "rawType": "int64",
         "type": "integer"
        },
        {
         "name": "popularity",
         "rawType": "int64",
         "type": "integer"
        },
        {
         "name": "danceability",
         "rawType": "float64",
         "type": "float"
        },
        {
         "name": "energy",
         "rawType": "float64",
         "type": "float"
        },
        {
         "name": "key",
         "rawType": "int64",
         "type": "integer"
        },
        {
         "name": "loudness",
         "rawType": "float64",
         "type": "float"
        },
        {
         "name": "mode",
         "rawType": "int64",
         "type": "integer"
        },
        {
         "name": "speechiness",
         "rawType": "float64",
         "type": "float"
        },
        {
         "name": "acousticness",
         "rawType": "float64",
         "type": "float"
        },
        {
         "name": "instrumentalness",
         "rawType": "float64",
         "type": "float"
        },
        {
         "name": "liveness",
         "rawType": "float64",
         "type": "float"
        },
        {
         "name": "valence",
         "rawType": "float64",
         "type": "float"
        },
        {
         "name": "tempo",
         "rawType": "float64",
         "type": "float"
        },
        {
         "name": "genre",
         "rawType": "object",
         "type": "string"
        }
       ],
       "ref": "2c03844c-89c7-4b21-9d76-998e96344d2d",
       "rows": [
        [
         "0",
         "Britney Spears",
         "Oops!...I Did It Again",
         "211160",
         "False",
         "2000",
         "77",
         "0.751",
         "0.834",
         "1",
         "-5.444",
         "0",
         "0.0437",
         "0.3",
         "1.77e-05",
         "0.355",
         "0.894",
         "95.053",
         "pop"
        ],
        [
         "1",
         "blink-182",
         "All The Small Things",
         "167066",
         "False",
         "1999",
         "79",
         "0.434",
         "0.897",
         "0",
         "-4.918",
         "1",
         "0.0488",
         "0.0103",
         "0.0",
         "0.612",
         "0.684",
         "148.726",
         "rock, pop"
        ],
        [
         "2",
         "Faith Hill",
         "Breathe",
         "250546",
         "False",
         "1999",
         "66",
         "0.529",
         "0.496",
         "7",
         "-9.007",
         "1",
         "0.029",
         "0.173",
         "0.0",
         "0.251",
         "0.278",
         "136.859",
         "pop, country"
        ],
        [
         "3",
         "Bon Jovi",
         "It's My Life",
         "224493",
         "False",
         "2000",
         "78",
         "0.551",
         "0.913",
         "0",
         "-4.063",
         "0",
         "0.0466",
         "0.0263",
         "1.35e-05",
         "0.347",
         "0.544",
         "119.992",
         "rock, metal"
        ],
        [
         "4",
         "*NSYNC",
         "Bye Bye Bye",
         "200560",
         "False",
         "2000",
         "65",
         "0.614",
         "0.928",
         "8",
         "-4.806",
         "0",
         "0.0516",
         "0.0408",
         "0.00104",
         "0.0845",
         "0.879",
         "172.656",
         "pop"
        ]
       ],
       "shape": {
        "columns": 18,
        "rows": 5
       }
      },
      "text/html": [
       "<div>\n",
       "<style scoped>\n",
       "    .dataframe tbody tr th:only-of-type {\n",
       "        vertical-align: middle;\n",
       "    }\n",
       "\n",
       "    .dataframe tbody tr th {\n",
       "        vertical-align: top;\n",
       "    }\n",
       "\n",
       "    .dataframe thead th {\n",
       "        text-align: right;\n",
       "    }\n",
       "</style>\n",
       "<table border=\"1\" class=\"dataframe\">\n",
       "  <thead>\n",
       "    <tr style=\"text-align: right;\">\n",
       "      <th></th>\n",
       "      <th>artist</th>\n",
       "      <th>song</th>\n",
       "      <th>duration_ms</th>\n",
       "      <th>explicit</th>\n",
       "      <th>year</th>\n",
       "      <th>popularity</th>\n",
       "      <th>danceability</th>\n",
       "      <th>energy</th>\n",
       "      <th>key</th>\n",
       "      <th>loudness</th>\n",
       "      <th>mode</th>\n",
       "      <th>speechiness</th>\n",
       "      <th>acousticness</th>\n",
       "      <th>instrumentalness</th>\n",
       "      <th>liveness</th>\n",
       "      <th>valence</th>\n",
       "      <th>tempo</th>\n",
       "      <th>genre</th>\n",
       "    </tr>\n",
       "  </thead>\n",
       "  <tbody>\n",
       "    <tr>\n",
       "      <th>0</th>\n",
       "      <td>Britney Spears</td>\n",
       "      <td>Oops!...I Did It Again</td>\n",
       "      <td>211160</td>\n",
       "      <td>False</td>\n",
       "      <td>2000</td>\n",
       "      <td>77</td>\n",
       "      <td>0.751</td>\n",
       "      <td>0.834</td>\n",
       "      <td>1</td>\n",
       "      <td>-5.444</td>\n",
       "      <td>0</td>\n",
       "      <td>0.0437</td>\n",
       "      <td>0.3000</td>\n",
       "      <td>0.000018</td>\n",
       "      <td>0.3550</td>\n",
       "      <td>0.894</td>\n",
       "      <td>95.053</td>\n",
       "      <td>pop</td>\n",
       "    </tr>\n",
       "    <tr>\n",
       "      <th>1</th>\n",
       "      <td>blink-182</td>\n",
       "      <td>All The Small Things</td>\n",
       "      <td>167066</td>\n",
       "      <td>False</td>\n",
       "      <td>1999</td>\n",
       "      <td>79</td>\n",
       "      <td>0.434</td>\n",
       "      <td>0.897</td>\n",
       "      <td>0</td>\n",
       "      <td>-4.918</td>\n",
       "      <td>1</td>\n",
       "      <td>0.0488</td>\n",
       "      <td>0.0103</td>\n",
       "      <td>0.000000</td>\n",
       "      <td>0.6120</td>\n",
       "      <td>0.684</td>\n",
       "      <td>148.726</td>\n",
       "      <td>rock, pop</td>\n",
       "    </tr>\n",
       "    <tr>\n",
       "      <th>2</th>\n",
       "      <td>Faith Hill</td>\n",
       "      <td>Breathe</td>\n",
       "      <td>250546</td>\n",
       "      <td>False</td>\n",
       "      <td>1999</td>\n",
       "      <td>66</td>\n",
       "      <td>0.529</td>\n",
       "      <td>0.496</td>\n",
       "      <td>7</td>\n",
       "      <td>-9.007</td>\n",
       "      <td>1</td>\n",
       "      <td>0.0290</td>\n",
       "      <td>0.1730</td>\n",
       "      <td>0.000000</td>\n",
       "      <td>0.2510</td>\n",
       "      <td>0.278</td>\n",
       "      <td>136.859</td>\n",
       "      <td>pop, country</td>\n",
       "    </tr>\n",
       "    <tr>\n",
       "      <th>3</th>\n",
       "      <td>Bon Jovi</td>\n",
       "      <td>It's My Life</td>\n",
       "      <td>224493</td>\n",
       "      <td>False</td>\n",
       "      <td>2000</td>\n",
       "      <td>78</td>\n",
       "      <td>0.551</td>\n",
       "      <td>0.913</td>\n",
       "      <td>0</td>\n",
       "      <td>-4.063</td>\n",
       "      <td>0</td>\n",
       "      <td>0.0466</td>\n",
       "      <td>0.0263</td>\n",
       "      <td>0.000013</td>\n",
       "      <td>0.3470</td>\n",
       "      <td>0.544</td>\n",
       "      <td>119.992</td>\n",
       "      <td>rock, metal</td>\n",
       "    </tr>\n",
       "    <tr>\n",
       "      <th>4</th>\n",
       "      <td>*NSYNC</td>\n",
       "      <td>Bye Bye Bye</td>\n",
       "      <td>200560</td>\n",
       "      <td>False</td>\n",
       "      <td>2000</td>\n",
       "      <td>65</td>\n",
       "      <td>0.614</td>\n",
       "      <td>0.928</td>\n",
       "      <td>8</td>\n",
       "      <td>-4.806</td>\n",
       "      <td>0</td>\n",
       "      <td>0.0516</td>\n",
       "      <td>0.0408</td>\n",
       "      <td>0.001040</td>\n",
       "      <td>0.0845</td>\n",
       "      <td>0.879</td>\n",
       "      <td>172.656</td>\n",
       "      <td>pop</td>\n",
       "    </tr>\n",
       "  </tbody>\n",
       "</table>\n",
       "</div>"
      ],
      "text/plain": [
       "           artist                    song  duration_ms  explicit  year  \\\n",
       "0  Britney Spears  Oops!...I Did It Again       211160     False  2000   \n",
       "1       blink-182    All The Small Things       167066     False  1999   \n",
       "2      Faith Hill                 Breathe       250546     False  1999   \n",
       "3        Bon Jovi            It's My Life       224493     False  2000   \n",
       "4          *NSYNC             Bye Bye Bye       200560     False  2000   \n",
       "\n",
       "   popularity  danceability  energy  key  loudness  mode  speechiness  \\\n",
       "0          77         0.751   0.834    1    -5.444     0       0.0437   \n",
       "1          79         0.434   0.897    0    -4.918     1       0.0488   \n",
       "2          66         0.529   0.496    7    -9.007     1       0.0290   \n",
       "3          78         0.551   0.913    0    -4.063     0       0.0466   \n",
       "4          65         0.614   0.928    8    -4.806     0       0.0516   \n",
       "\n",
       "   acousticness  instrumentalness  liveness  valence    tempo         genre  \n",
       "0        0.3000          0.000018    0.3550    0.894   95.053           pop  \n",
       "1        0.0103          0.000000    0.6120    0.684  148.726     rock, pop  \n",
       "2        0.1730          0.000000    0.2510    0.278  136.859  pop, country  \n",
       "3        0.0263          0.000013    0.3470    0.544  119.992   rock, metal  \n",
       "4        0.0408          0.001040    0.0845    0.879  172.656           pop  "
      ]
     },
     "execution_count": 12,
     "metadata": {},
     "output_type": "execute_result"
    }
   ],
   "source": [
    "df.head()"
   ]
  },
  {
   "cell_type": "code",
   "execution_count": 13,
   "id": "1ad5b3da",
   "metadata": {},
   "outputs": [
    {
     "name": "stdout",
     "output_type": "stream",
     "text": [
      "As features do dataset são:\n",
      "1. artist\n",
      "2. song\n",
      "3. duration_ms\n",
      "4. explicit\n",
      "5. year\n",
      "6. popularity\n",
      "7. danceability\n",
      "8. energy\n",
      "9. key\n",
      "10. loudness\n",
      "11. mode\n",
      "12. speechiness\n",
      "13. acousticness\n",
      "14. instrumentalness\n",
      "15. liveness\n",
      "16. valence\n",
      "17. tempo\n",
      "18. genre\n"
     ]
    }
   ],
   "source": [
    "columns = df.columns\n",
    "\n",
    "print('As features do dataset são:')\n",
    "for(i, col) in enumerate(columns):\n",
    "    print(f'{i+1}. {col}')"
   ]
  },
  {
   "cell_type": "markdown",
   "id": "8ce0942c",
   "metadata": {},
   "source": [
    "# Limpeza do dados"
   ]
  },
  {
   "cell_type": "markdown",
   "id": "91cfe662",
   "metadata": {},
   "source": [
    "## Análise de nulos"
   ]
  },
  {
   "cell_type": "code",
   "execution_count": 14,
   "id": "1547d0fb",
   "metadata": {},
   "outputs": [],
   "source": [
    "def verificar_nulos(dataframe):\n",
    "    nulos = dataframe.isnull().sum()\n",
    "    total = dataframe.shape[0]\n",
    "    porcentagem = (nulos / total) * 100\n",
    "    resultado = pd.DataFrame({'Nulos': nulos, 'Porcentagem (%)': porcentagem})\n",
    "    return resultado"
   ]
  },
  {
   "cell_type": "code",
   "execution_count": 15,
   "id": "19ce0900",
   "metadata": {},
   "outputs": [
    {
     "data": {
      "application/vnd.microsoft.datawrangler.viewer.v0+json": {
       "columns": [
        {
         "name": "index",
         "rawType": "object",
         "type": "string"
        },
        {
         "name": "Nulos",
         "rawType": "int64",
         "type": "integer"
        },
        {
         "name": "Porcentagem (%)",
         "rawType": "float64",
         "type": "float"
        }
       ],
       "ref": "bab4b12a-344a-44f9-8618-acb35baa927f",
       "rows": [
        [
         "artist",
         "0",
         "0.0"
        ],
        [
         "song",
         "0",
         "0.0"
        ],
        [
         "duration_ms",
         "0",
         "0.0"
        ],
        [
         "explicit",
         "0",
         "0.0"
        ],
        [
         "year",
         "0",
         "0.0"
        ],
        [
         "popularity",
         "0",
         "0.0"
        ],
        [
         "danceability",
         "0",
         "0.0"
        ],
        [
         "energy",
         "0",
         "0.0"
        ],
        [
         "key",
         "0",
         "0.0"
        ],
        [
         "loudness",
         "0",
         "0.0"
        ],
        [
         "mode",
         "0",
         "0.0"
        ],
        [
         "speechiness",
         "0",
         "0.0"
        ],
        [
         "acousticness",
         "0",
         "0.0"
        ],
        [
         "instrumentalness",
         "0",
         "0.0"
        ],
        [
         "liveness",
         "0",
         "0.0"
        ],
        [
         "valence",
         "0",
         "0.0"
        ],
        [
         "tempo",
         "0",
         "0.0"
        ],
        [
         "genre",
         "0",
         "0.0"
        ]
       ],
       "shape": {
        "columns": 2,
        "rows": 18
       }
      },
      "text/html": [
       "<div>\n",
       "<style scoped>\n",
       "    .dataframe tbody tr th:only-of-type {\n",
       "        vertical-align: middle;\n",
       "    }\n",
       "\n",
       "    .dataframe tbody tr th {\n",
       "        vertical-align: top;\n",
       "    }\n",
       "\n",
       "    .dataframe thead th {\n",
       "        text-align: right;\n",
       "    }\n",
       "</style>\n",
       "<table border=\"1\" class=\"dataframe\">\n",
       "  <thead>\n",
       "    <tr style=\"text-align: right;\">\n",
       "      <th></th>\n",
       "      <th>Nulos</th>\n",
       "      <th>Porcentagem (%)</th>\n",
       "    </tr>\n",
       "  </thead>\n",
       "  <tbody>\n",
       "    <tr>\n",
       "      <th>artist</th>\n",
       "      <td>0</td>\n",
       "      <td>0.0</td>\n",
       "    </tr>\n",
       "    <tr>\n",
       "      <th>song</th>\n",
       "      <td>0</td>\n",
       "      <td>0.0</td>\n",
       "    </tr>\n",
       "    <tr>\n",
       "      <th>duration_ms</th>\n",
       "      <td>0</td>\n",
       "      <td>0.0</td>\n",
       "    </tr>\n",
       "    <tr>\n",
       "      <th>explicit</th>\n",
       "      <td>0</td>\n",
       "      <td>0.0</td>\n",
       "    </tr>\n",
       "    <tr>\n",
       "      <th>year</th>\n",
       "      <td>0</td>\n",
       "      <td>0.0</td>\n",
       "    </tr>\n",
       "    <tr>\n",
       "      <th>popularity</th>\n",
       "      <td>0</td>\n",
       "      <td>0.0</td>\n",
       "    </tr>\n",
       "    <tr>\n",
       "      <th>danceability</th>\n",
       "      <td>0</td>\n",
       "      <td>0.0</td>\n",
       "    </tr>\n",
       "    <tr>\n",
       "      <th>energy</th>\n",
       "      <td>0</td>\n",
       "      <td>0.0</td>\n",
       "    </tr>\n",
       "    <tr>\n",
       "      <th>key</th>\n",
       "      <td>0</td>\n",
       "      <td>0.0</td>\n",
       "    </tr>\n",
       "    <tr>\n",
       "      <th>loudness</th>\n",
       "      <td>0</td>\n",
       "      <td>0.0</td>\n",
       "    </tr>\n",
       "    <tr>\n",
       "      <th>mode</th>\n",
       "      <td>0</td>\n",
       "      <td>0.0</td>\n",
       "    </tr>\n",
       "    <tr>\n",
       "      <th>speechiness</th>\n",
       "      <td>0</td>\n",
       "      <td>0.0</td>\n",
       "    </tr>\n",
       "    <tr>\n",
       "      <th>acousticness</th>\n",
       "      <td>0</td>\n",
       "      <td>0.0</td>\n",
       "    </tr>\n",
       "    <tr>\n",
       "      <th>instrumentalness</th>\n",
       "      <td>0</td>\n",
       "      <td>0.0</td>\n",
       "    </tr>\n",
       "    <tr>\n",
       "      <th>liveness</th>\n",
       "      <td>0</td>\n",
       "      <td>0.0</td>\n",
       "    </tr>\n",
       "    <tr>\n",
       "      <th>valence</th>\n",
       "      <td>0</td>\n",
       "      <td>0.0</td>\n",
       "    </tr>\n",
       "    <tr>\n",
       "      <th>tempo</th>\n",
       "      <td>0</td>\n",
       "      <td>0.0</td>\n",
       "    </tr>\n",
       "    <tr>\n",
       "      <th>genre</th>\n",
       "      <td>0</td>\n",
       "      <td>0.0</td>\n",
       "    </tr>\n",
       "  </tbody>\n",
       "</table>\n",
       "</div>"
      ],
      "text/plain": [
       "                  Nulos  Porcentagem (%)\n",
       "artist                0              0.0\n",
       "song                  0              0.0\n",
       "duration_ms           0              0.0\n",
       "explicit              0              0.0\n",
       "year                  0              0.0\n",
       "popularity            0              0.0\n",
       "danceability          0              0.0\n",
       "energy                0              0.0\n",
       "key                   0              0.0\n",
       "loudness              0              0.0\n",
       "mode                  0              0.0\n",
       "speechiness           0              0.0\n",
       "acousticness          0              0.0\n",
       "instrumentalness      0              0.0\n",
       "liveness              0              0.0\n",
       "valence               0              0.0\n",
       "tempo                 0              0.0\n",
       "genre                 0              0.0"
      ]
     },
     "execution_count": 15,
     "metadata": {},
     "output_type": "execute_result"
    }
   ],
   "source": [
    "verificar_nulos(df)"
   ]
  },
  {
   "cell_type": "markdown",
   "id": "78ae7b1e",
   "metadata": {},
   "source": [
    "## Análise descritiva"
   ]
  },
  {
   "cell_type": "code",
   "execution_count": 16,
   "id": "ce4f84fa",
   "metadata": {},
   "outputs": [
    {
     "data": {
      "application/vnd.microsoft.datawrangler.viewer.v0+json": {
       "columns": [
        {
         "name": "index",
         "rawType": "object",
         "type": "string"
        },
        {
         "name": "duration_ms",
         "rawType": "float64",
         "type": "float"
        },
        {
         "name": "year",
         "rawType": "float64",
         "type": "float"
        },
        {
         "name": "popularity",
         "rawType": "float64",
         "type": "float"
        },
        {
         "name": "danceability",
         "rawType": "float64",
         "type": "float"
        },
        {
         "name": "energy",
         "rawType": "float64",
         "type": "float"
        },
        {
         "name": "key",
         "rawType": "float64",
         "type": "float"
        },
        {
         "name": "loudness",
         "rawType": "float64",
         "type": "float"
        },
        {
         "name": "mode",
         "rawType": "float64",
         "type": "float"
        },
        {
         "name": "speechiness",
         "rawType": "float64",
         "type": "float"
        },
        {
         "name": "acousticness",
         "rawType": "float64",
         "type": "float"
        },
        {
         "name": "instrumentalness",
         "rawType": "float64",
         "type": "float"
        },
        {
         "name": "liveness",
         "rawType": "float64",
         "type": "float"
        },
        {
         "name": "valence",
         "rawType": "float64",
         "type": "float"
        },
        {
         "name": "tempo",
         "rawType": "float64",
         "type": "float"
        }
       ],
       "ref": "d9d0e7ad-a03c-429e-8306-c537f5e5668c",
       "rows": [
        [
         "count",
         "2000.0",
         "2000.0",
         "2000.0",
         "2000.0",
         "2000.0",
         "2000.0",
         "2000.0",
         "2000.0",
         "2000.0",
         "2000.0",
         "2000.0",
         "2000.0",
         "2000.0",
         "2000.0"
        ],
        [
         "mean",
         "228748.1245",
         "2009.494",
         "59.8725",
         "0.6674375",
         "0.720366",
         "5.378",
         "-5.5124344999999995",
         "0.5535",
         "0.1035677",
         "0.12895492795000002",
         "0.015225990605",
         "0.1812158",
         "0.55168965",
         "120.12255750000001"
        ],
        [
         "std",
         "39136.56900752594",
         "5.85996020180883",
         "21.33557702930921",
         "0.14041641456214884",
         "0.1527452844278915",
         "3.6150588273446647",
         "1.9334820133783968",
         "0.4972538392917094",
         "0.096158764190662",
         "0.17334592622478562",
         "0.0877707216014757",
         "0.14066920673417338",
         "0.22086418979328457",
         "26.967111988479473"
        ],
        [
         "min",
         "113000.0",
         "1998.0",
         "0.0",
         "0.129",
         "0.0549",
         "0.0",
         "-20.514",
         "0.0",
         "0.0232",
         "1.92e-05",
         "0.0",
         "0.0215",
         "0.0381",
         "60.019"
        ],
        [
         "25%",
         "203580.0",
         "2004.0",
         "56.0",
         "0.581",
         "0.622",
         "2.0",
         "-6.49025",
         "0.0",
         "0.0396",
         "0.014",
         "0.0",
         "0.0881",
         "0.38675000000000004",
         "98.98575"
        ],
        [
         "50%",
         "223279.5",
         "2010.0",
         "65.5",
         "0.676",
         "0.736",
         "6.0",
         "-5.285",
         "1.0",
         "0.05985",
         "0.0557",
         "0.0",
         "0.124",
         "0.5575000000000001",
         "120.0215"
        ],
        [
         "75%",
         "248133.0",
         "2015.0",
         "73.0",
         "0.764",
         "0.839",
         "8.0",
         "-4.16775",
         "1.0",
         "0.129",
         "0.17625",
         "6.83e-05",
         "0.241",
         "0.73",
         "134.2655"
        ],
        [
         "max",
         "484146.0",
         "2020.0",
         "89.0",
         "0.975",
         "0.999",
         "11.0",
         "-0.276",
         "1.0",
         "0.576",
         "0.976",
         "0.985",
         "0.853",
         "0.973",
         "210.851"
        ]
       ],
       "shape": {
        "columns": 14,
        "rows": 8
       }
      },
      "text/html": [
       "<div>\n",
       "<style scoped>\n",
       "    .dataframe tbody tr th:only-of-type {\n",
       "        vertical-align: middle;\n",
       "    }\n",
       "\n",
       "    .dataframe tbody tr th {\n",
       "        vertical-align: top;\n",
       "    }\n",
       "\n",
       "    .dataframe thead th {\n",
       "        text-align: right;\n",
       "    }\n",
       "</style>\n",
       "<table border=\"1\" class=\"dataframe\">\n",
       "  <thead>\n",
       "    <tr style=\"text-align: right;\">\n",
       "      <th></th>\n",
       "      <th>duration_ms</th>\n",
       "      <th>year</th>\n",
       "      <th>popularity</th>\n",
       "      <th>danceability</th>\n",
       "      <th>energy</th>\n",
       "      <th>key</th>\n",
       "      <th>loudness</th>\n",
       "      <th>mode</th>\n",
       "      <th>speechiness</th>\n",
       "      <th>acousticness</th>\n",
       "      <th>instrumentalness</th>\n",
       "      <th>liveness</th>\n",
       "      <th>valence</th>\n",
       "      <th>tempo</th>\n",
       "    </tr>\n",
       "  </thead>\n",
       "  <tbody>\n",
       "    <tr>\n",
       "      <th>count</th>\n",
       "      <td>2000.000000</td>\n",
       "      <td>2000.00000</td>\n",
       "      <td>2000.000000</td>\n",
       "      <td>2000.000000</td>\n",
       "      <td>2000.000000</td>\n",
       "      <td>2000.000000</td>\n",
       "      <td>2000.000000</td>\n",
       "      <td>2000.000000</td>\n",
       "      <td>2000.000000</td>\n",
       "      <td>2000.000000</td>\n",
       "      <td>2000.000000</td>\n",
       "      <td>2000.000000</td>\n",
       "      <td>2000.000000</td>\n",
       "      <td>2000.000000</td>\n",
       "    </tr>\n",
       "    <tr>\n",
       "      <th>mean</th>\n",
       "      <td>228748.124500</td>\n",
       "      <td>2009.49400</td>\n",
       "      <td>59.872500</td>\n",
       "      <td>0.667438</td>\n",
       "      <td>0.720366</td>\n",
       "      <td>5.378000</td>\n",
       "      <td>-5.512434</td>\n",
       "      <td>0.553500</td>\n",
       "      <td>0.103568</td>\n",
       "      <td>0.128955</td>\n",
       "      <td>0.015226</td>\n",
       "      <td>0.181216</td>\n",
       "      <td>0.551690</td>\n",
       "      <td>120.122558</td>\n",
       "    </tr>\n",
       "    <tr>\n",
       "      <th>std</th>\n",
       "      <td>39136.569008</td>\n",
       "      <td>5.85996</td>\n",
       "      <td>21.335577</td>\n",
       "      <td>0.140416</td>\n",
       "      <td>0.152745</td>\n",
       "      <td>3.615059</td>\n",
       "      <td>1.933482</td>\n",
       "      <td>0.497254</td>\n",
       "      <td>0.096159</td>\n",
       "      <td>0.173346</td>\n",
       "      <td>0.087771</td>\n",
       "      <td>0.140669</td>\n",
       "      <td>0.220864</td>\n",
       "      <td>26.967112</td>\n",
       "    </tr>\n",
       "    <tr>\n",
       "      <th>min</th>\n",
       "      <td>113000.000000</td>\n",
       "      <td>1998.00000</td>\n",
       "      <td>0.000000</td>\n",
       "      <td>0.129000</td>\n",
       "      <td>0.054900</td>\n",
       "      <td>0.000000</td>\n",
       "      <td>-20.514000</td>\n",
       "      <td>0.000000</td>\n",
       "      <td>0.023200</td>\n",
       "      <td>0.000019</td>\n",
       "      <td>0.000000</td>\n",
       "      <td>0.021500</td>\n",
       "      <td>0.038100</td>\n",
       "      <td>60.019000</td>\n",
       "    </tr>\n",
       "    <tr>\n",
       "      <th>25%</th>\n",
       "      <td>203580.000000</td>\n",
       "      <td>2004.00000</td>\n",
       "      <td>56.000000</td>\n",
       "      <td>0.581000</td>\n",
       "      <td>0.622000</td>\n",
       "      <td>2.000000</td>\n",
       "      <td>-6.490250</td>\n",
       "      <td>0.000000</td>\n",
       "      <td>0.039600</td>\n",
       "      <td>0.014000</td>\n",
       "      <td>0.000000</td>\n",
       "      <td>0.088100</td>\n",
       "      <td>0.386750</td>\n",
       "      <td>98.985750</td>\n",
       "    </tr>\n",
       "    <tr>\n",
       "      <th>50%</th>\n",
       "      <td>223279.500000</td>\n",
       "      <td>2010.00000</td>\n",
       "      <td>65.500000</td>\n",
       "      <td>0.676000</td>\n",
       "      <td>0.736000</td>\n",
       "      <td>6.000000</td>\n",
       "      <td>-5.285000</td>\n",
       "      <td>1.000000</td>\n",
       "      <td>0.059850</td>\n",
       "      <td>0.055700</td>\n",
       "      <td>0.000000</td>\n",
       "      <td>0.124000</td>\n",
       "      <td>0.557500</td>\n",
       "      <td>120.021500</td>\n",
       "    </tr>\n",
       "    <tr>\n",
       "      <th>75%</th>\n",
       "      <td>248133.000000</td>\n",
       "      <td>2015.00000</td>\n",
       "      <td>73.000000</td>\n",
       "      <td>0.764000</td>\n",
       "      <td>0.839000</td>\n",
       "      <td>8.000000</td>\n",
       "      <td>-4.167750</td>\n",
       "      <td>1.000000</td>\n",
       "      <td>0.129000</td>\n",
       "      <td>0.176250</td>\n",
       "      <td>0.000068</td>\n",
       "      <td>0.241000</td>\n",
       "      <td>0.730000</td>\n",
       "      <td>134.265500</td>\n",
       "    </tr>\n",
       "    <tr>\n",
       "      <th>max</th>\n",
       "      <td>484146.000000</td>\n",
       "      <td>2020.00000</td>\n",
       "      <td>89.000000</td>\n",
       "      <td>0.975000</td>\n",
       "      <td>0.999000</td>\n",
       "      <td>11.000000</td>\n",
       "      <td>-0.276000</td>\n",
       "      <td>1.000000</td>\n",
       "      <td>0.576000</td>\n",
       "      <td>0.976000</td>\n",
       "      <td>0.985000</td>\n",
       "      <td>0.853000</td>\n",
       "      <td>0.973000</td>\n",
       "      <td>210.851000</td>\n",
       "    </tr>\n",
       "  </tbody>\n",
       "</table>\n",
       "</div>"
      ],
      "text/plain": [
       "         duration_ms        year   popularity  danceability       energy  \\\n",
       "count    2000.000000  2000.00000  2000.000000   2000.000000  2000.000000   \n",
       "mean   228748.124500  2009.49400    59.872500      0.667438     0.720366   \n",
       "std     39136.569008     5.85996    21.335577      0.140416     0.152745   \n",
       "min    113000.000000  1998.00000     0.000000      0.129000     0.054900   \n",
       "25%    203580.000000  2004.00000    56.000000      0.581000     0.622000   \n",
       "50%    223279.500000  2010.00000    65.500000      0.676000     0.736000   \n",
       "75%    248133.000000  2015.00000    73.000000      0.764000     0.839000   \n",
       "max    484146.000000  2020.00000    89.000000      0.975000     0.999000   \n",
       "\n",
       "               key     loudness         mode  speechiness  acousticness  \\\n",
       "count  2000.000000  2000.000000  2000.000000  2000.000000   2000.000000   \n",
       "mean      5.378000    -5.512434     0.553500     0.103568      0.128955   \n",
       "std       3.615059     1.933482     0.497254     0.096159      0.173346   \n",
       "min       0.000000   -20.514000     0.000000     0.023200      0.000019   \n",
       "25%       2.000000    -6.490250     0.000000     0.039600      0.014000   \n",
       "50%       6.000000    -5.285000     1.000000     0.059850      0.055700   \n",
       "75%       8.000000    -4.167750     1.000000     0.129000      0.176250   \n",
       "max      11.000000    -0.276000     1.000000     0.576000      0.976000   \n",
       "\n",
       "       instrumentalness     liveness      valence        tempo  \n",
       "count       2000.000000  2000.000000  2000.000000  2000.000000  \n",
       "mean           0.015226     0.181216     0.551690   120.122558  \n",
       "std            0.087771     0.140669     0.220864    26.967112  \n",
       "min            0.000000     0.021500     0.038100    60.019000  \n",
       "25%            0.000000     0.088100     0.386750    98.985750  \n",
       "50%            0.000000     0.124000     0.557500   120.021500  \n",
       "75%            0.000068     0.241000     0.730000   134.265500  \n",
       "max            0.985000     0.853000     0.973000   210.851000  "
      ]
     },
     "execution_count": 16,
     "metadata": {},
     "output_type": "execute_result"
    }
   ],
   "source": [
    "df.describe()"
   ]
  },
  {
   "cell_type": "markdown",
   "id": "ffb877e7",
   "metadata": {},
   "source": [
    "# Gerar o dataframe"
   ]
  },
  {
   "cell_type": "code",
   "execution_count": 17,
   "id": "e12bde60",
   "metadata": {},
   "outputs": [],
   "source": [
    "df.to_csv('../datasets/data_clean.csv', index=False, encoding='utf-8')"
   ]
  },
  {
   "cell_type": "markdown",
   "id": "b2a7e50b",
   "metadata": {},
   "source": [
    "# Resultados"
   ]
  },
  {
   "cell_type": "markdown",
   "id": "cc0ce10c",
   "metadata": {},
   "source": [
    "Aparentemente os dados desse dataset de 2000 músicas está tratado. Foi encontrado apenas uma inconsistência de algumas musicas possirem o gênero \"set()\", que muito provavelmente foi erro de input."
   ]
  }
 ],
 "metadata": {
  "kernelspec": {
   "display_name": "spotify-music-recomendation-_5l54QgE",
   "language": "python",
   "name": "python3"
  },
  "language_info": {
   "codemirror_mode": {
    "name": "ipython",
    "version": 3
   },
   "file_extension": ".py",
   "mimetype": "text/x-python",
   "name": "python",
   "nbconvert_exporter": "python",
   "pygments_lexer": "ipython3",
   "version": "3.12.12"
  }
 },
 "nbformat": 4,
 "nbformat_minor": 5
}
